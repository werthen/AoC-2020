{
 "cells": [
  {
   "cell_type": "code",
   "execution_count": 1,
   "metadata": {},
   "outputs": [],
   "source": [
    "import tensorflow as tf\n",
    "# Fixes bad convolution\n",
    "gpus = tf.config.experimental.list_physical_devices('GPU')\n",
    "for gpu in gpus:\n",
    "    tf.config.experimental.set_memory_growth(gpu, True)"
   ]
  },
  {
   "cell_type": "code",
   "execution_count": 110,
   "metadata": {},
   "outputs": [
    {
     "name": "stdout",
     "output_type": "stream",
     "text": [
      "1.39 ms ± 19.1 µs per loop (mean ± std. dev. of 7 runs, 1000 loops each)\n"
     ]
    },
    {
     "data": {
      "text/plain": [
       "<tf.Tensor: shape=(), dtype=int32, numpy=102>"
      ]
     },
     "execution_count": 110,
     "metadata": {},
     "output_type": "execute_result"
    }
   ],
   "source": [
    "s = tf.io.read_file('day13.txt')\n",
    "\n",
    "@tf.function\n",
    "def solve1(s):\n",
    "    s = tf.strings.split(s, '\\n')\n",
    "    t0 = tf.strings.to_number(s[0], out_type=tf.int32)\n",
    "    busnumbers = tf.strings.split(s[1], ',')\n",
    "    busnumbers = tf.strings.to_number(busnumbers[busnumbers != 'x'], out_type=tf.int32)\n",
    "\n",
    "    # Removing 1 from busnumbers so we can catch the buses leaving at the same time as t0\n",
    "    quotients = (t0-1)//busnumbers\n",
    "    earliest_times = (quotients+1)*busnumbers\n",
    "    bus_id = busnumbers[tf.argmin(earliest_times)]\n",
    "    t1 = earliest_times[tf.argmin(earliest_times)]\n",
    "\n",
    "    return bus_id*(t1 - t0)\n",
    "\n",
    "%timeit solve1(s)\n",
    "solve1(s)"
   ]
  },
  {
   "cell_type": "code",
   "execution_count": 120,
   "metadata": {},
   "outputs": [
    {
     "name": "stdout",
     "output_type": "stream",
     "text": [
      "6.14 ms ± 164 µs per loop (mean ± std. dev. of 7 runs, 1 loop each)\n"
     ]
    },
    {
     "data": {
      "text/plain": [
       "<tf.Tensor: shape=(), dtype=int64, numpy=327300950120029>"
      ]
     },
     "execution_count": 120,
     "metadata": {},
     "output_type": "execute_result"
    }
   ],
   "source": [
    "s = tf.io.read_file('day13.txt')\n",
    "\n",
    "def mul_inv(a, b):\n",
    "    b0 = b\n",
    "    x0, x1 = tf.constant(0, tf.int64), tf.constant(1, tf.int64)\n",
    "    if b == 1:\n",
    "        return tf.constant(1, tf.int64)\n",
    "    while a > 1:\n",
    "        q = a // b\n",
    "        a, b = b, a%b\n",
    "        x0, x1 = x1 - q * x0, x0\n",
    "    if x1 < 0: x1 += b0\n",
    "    return x1\n",
    "\n",
    "@tf.function\n",
    "def solve2(s):\n",
    "    s = tf.strings.split(s, '\\n')\n",
    "    busnumbers = tf.strings.split(s[1], ',')\n",
    "    offsets = -tf.range(tf.shape(busnumbers)[0], dtype=tf.int64)[busnumbers != 'x']\n",
    "    busnumbers = tf.strings.to_number(busnumbers[busnumbers != 'x'], out_type=tf.int64)\n",
    "\n",
    "    N = tf.reduce_prod(busnumbers)\n",
    "    inverses = tf.vectorized_map(lambda bn: mul_inv(N//bn, bn), busnumbers)\n",
    "    \n",
    "    return tf.reduce_sum(offsets*inverses*(N//busnumbers)) % N\n",
    "\n",
    "%timeit solve2(s)\n",
    "solve2(s)"
   ]
  },
  {
   "cell_type": "code",
   "execution_count": null,
   "metadata": {},
   "outputs": [],
   "source": []
  }
 ],
 "metadata": {
  "kernelspec": {
   "display_name": "Python 3",
   "language": "python",
   "name": "python3"
  },
  "language_info": {
   "codemirror_mode": {
    "name": "ipython",
    "version": 3
   },
   "file_extension": ".py",
   "mimetype": "text/x-python",
   "name": "python",
   "nbconvert_exporter": "python",
   "pygments_lexer": "ipython3",
   "version": "3.8.0"
  }
 },
 "nbformat": 4,
 "nbformat_minor": 4
}
