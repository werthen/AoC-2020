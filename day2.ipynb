{
 "cells": [
  {
   "cell_type": "markdown",
   "metadata": {},
   "source": [
    "# --- Day 2: Password Philosophy ---"
   ]
  },
  {
   "cell_type": "raw",
   "metadata": {},
   "source": [
    "Your flight departs in a few days from the coastal airport; the easiest way down to the coast from here is via toboggan.\n",
    "\n",
    "The shopkeeper at the North Pole Toboggan Rental Shop is having a bad day. \"Something's wrong with our computers; we can't log in!\" You ask if you can take a look.\n",
    "\n",
    "Their password database seems to be a little corrupted: some of the passwords wouldn't have been allowed by the Official Toboggan Corporate Policy that was in effect when they were chosen.\n",
    "\n",
    "To try to debug the problem, they have created a list (your puzzle input) of passwords (according to the corrupted database) and the corporate policy when that password was set.\n",
    "\n",
    "For example, suppose you have the following list:\n",
    "\n",
    "1-3 a: abcde\n",
    "1-3 b: cdefg\n",
    "2-9 c: ccccccccc\n",
    "\n",
    "Each line gives the password policy and then the password. The password policy indicates the lowest and highest number of times a given letter must appear for the password to be valid. For example, 1-3 a means that the password must contain a at least 1 time and at most 3 times.\n",
    "\n",
    "In the above example, 2 passwords are valid. The middle password, cdefg, is not; it contains no instances of b, but needs at least 1. The first and third passwords are valid: they contain one a or nine c, both within the limits of their respective policies.\n",
    "\n",
    "How many passwords are valid according to their policies?"
   ]
  },
  {
   "cell_type": "markdown",
   "metadata": {},
   "source": [
    "## Imports"
   ]
  },
  {
   "cell_type": "code",
   "execution_count": 1,
   "metadata": {},
   "outputs": [],
   "source": [
    "import tensorflow as tf"
   ]
  },
  {
   "cell_type": "markdown",
   "metadata": {},
   "source": [
    "## Part 1"
   ]
  },
  {
   "cell_type": "code",
   "execution_count": 2,
   "metadata": {},
   "outputs": [],
   "source": [
    "@tf.function\n",
    "def solve_1(passwords, chars, ab):\n",
    "    a, b = ab[0], ab[1]\n",
    "    x = tf.math.count_nonzero(passwords == chars, axis=0)\n",
    "    return tf.math.count_nonzero((x >= a) & (x <= b))"
   ]
  },
  {
   "cell_type": "code",
   "execution_count": 7,
   "metadata": {},
   "outputs": [
    {
     "name": "stdout",
     "output_type": "stream",
     "text": [
      "35.7 ms ± 270 µs per loop (mean ± std. dev. of 7 runs, 10 loops each)\n"
     ]
    }
   ],
   "source": [
    "%%timeit\n",
    "lines = open('day2.txt', 'r').readlines()\n",
    "lines = [line.strip().split(' ') for line in lines]\n",
    "passwords = [list(line[2]) for line in lines]\n",
    "passwords = tf.ragged.constant(passwords)\n",
    "passwords = tf.transpose(passwords.to_tensor())\n",
    "\n",
    "chars = [line[1][0] for line in lines]\n",
    "chars = tf.constant(chars)\n",
    "\n",
    "ab = [line[0].split('-') for line in lines]\n",
    "ab = [(int(a), int(b)) for a, b in ab]\n",
    "ab = tf.transpose(tf.constant(ab, dtype=tf.int64))\n",
    "\n",
    "solve_1(passwords, chars, ab)"
   ]
  },
  {
   "cell_type": "code",
   "execution_count": 6,
   "metadata": {},
   "outputs": [
    {
     "name": "stdout",
     "output_type": "stream",
     "text": [
      "467 µs ± 889 ns per loop (mean ± std. dev. of 7 runs, 1000 loops each)\n"
     ]
    }
   ],
   "source": [
    "%%timeit\n",
    "solve_1(passwords, chars, ab)"
   ]
  },
  {
   "cell_type": "markdown",
   "metadata": {},
   "source": [
    "## Part 2"
   ]
  },
  {
   "cell_type": "code",
   "execution_count": 8,
   "metadata": {},
   "outputs": [],
   "source": [
    "@tf.function\n",
    "def solve_2(passwords, chars, a):\n",
    "    a = tf.one_hot(a, passwords.shape[1], dtype=tf.int32)\n",
    "    a = tf.reduce_sum(a, axis=1)\n",
    "    x = a * passwords\n",
    "    x = tf.math.count_nonzero(x == chars, axis=1)\n",
    "    return tf.math.count_nonzero(x == 1)"
   ]
  },
  {
   "cell_type": "code",
   "execution_count": 10,
   "metadata": {},
   "outputs": [
    {
     "name": "stdout",
     "output_type": "stream",
     "text": [
      "30.9 ms ± 403 µs per loop (mean ± std. dev. of 7 runs, 10 loops each)\n"
     ]
    }
   ],
   "source": [
    "%%timeit\n",
    "\n",
    "lines = open('day2.txt', 'r').readlines()\n",
    "lines = [line.strip().split(' ') for line in lines]\n",
    "passwords = [list(line[2].encode()) for line in lines]\n",
    "passwords = tf.ragged.constant(passwords)\n",
    "passwords = passwords.to_tensor()\n",
    "\n",
    "chars = [[int(x) for x in line[1][0].encode()] for line in lines]\n",
    "chars = tf.constant(chars)\n",
    "\n",
    "a = [[int(x) for x in line[0].split('-')] for line in lines]\n",
    "a = [(x[0]-1, x[1]-1) for x in a]\n",
    "a = tf.constant(a)\n",
    "\n",
    "solve_2(passwords, chars, a)"
   ]
  },
  {
   "cell_type": "code",
   "execution_count": 11,
   "metadata": {},
   "outputs": [
    {
     "name": "stdout",
     "output_type": "stream",
     "text": [
      "645 µs ± 25.4 µs per loop (mean ± std. dev. of 7 runs, 1000 loops each)\n"
     ]
    }
   ],
   "source": [
    "%%timeit\n",
    "solve_2(passwords, chars, a)"
   ]
  },
  {
   "cell_type": "code",
   "execution_count": null,
   "metadata": {},
   "outputs": [],
   "source": []
  }
 ],
 "metadata": {
  "kernelspec": {
   "display_name": "Python 3",
   "language": "python",
   "name": "python3"
  },
  "language_info": {
   "codemirror_mode": {
    "name": "ipython",
    "version": 3
   },
   "file_extension": ".py",
   "mimetype": "text/x-python",
   "name": "python",
   "nbconvert_exporter": "python",
   "pygments_lexer": "ipython3",
   "version": "3.8.0"
  }
 },
 "nbformat": 4,
 "nbformat_minor": 4
}
