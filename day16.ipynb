{
 "cells": [
  {
   "cell_type": "code",
   "execution_count": 1,
   "metadata": {},
   "outputs": [],
   "source": [
    "import tensorflow as tf\n",
    "try:\n",
    "    # Disable all GPUS\n",
    "    tf.config.set_visible_devices([], 'GPU')\n",
    "    visible_devices = tf.config.get_visible_devices()\n",
    "    for device in visible_devices:\n",
    "        assert device.device_type != 'GPU'\n",
    "except:\n",
    "    # Invalid device or cannot modify virtual devices once initialized.\n",
    "    pass\n",
    "\n",
    "# Fixes bad convolution\n",
    "#gpus = tf.config.experimental.list_physical_devices('GPU')\n",
    "#for gpu in gpus:\n",
    "#    tf.config.experimental.set_memory_growth(gpu, True)"
   ]
  },
  {
   "cell_type": "code",
   "execution_count": 2,
   "metadata": {},
   "outputs": [
    {
     "name": "stdout",
     "output_type": "stream",
     "text": [
      "1.76 ms ± 134 µs per loop (mean ± std. dev. of 7 runs, 1 loop each)\n"
     ]
    }
   ],
   "source": [
    "s = tf.io.read_file('day16.txt')\n",
    "\n",
    "@tf.function\n",
    "def solve(s):\n",
    "    s = tf.strings.split(s, '\\n\\n')\n",
    "    s = tf.strings.split(s, '\\n')\n",
    "    s = tf.strings.split(s, ',')\n",
    "    rules = s[0].to_tensor()[:,0]\n",
    "    your_ticket= tf.strings.to_number(s[1][1:].to_tensor())\n",
    "    nearby_tickets= tf.strings.to_number(s[2][1:].to_tensor())\n",
    "    rules = tf.strings.split(rules, ':').to_tensor()\n",
    "    rule_names = rules[:,0]\n",
    "    rule_values = rules[:,1]\n",
    "    rule_values = tf.strings.split(rule_values, ' ').to_tensor()\n",
    "    r1 = rule_values[:,1]\n",
    "    r2 = rule_values[:,3]\n",
    "    r1 = tf.strings.to_number(tf.strings.split(r1, '-')).to_tensor()\n",
    "    r2 = tf.strings.to_number(tf.strings.split(r2, '-')).to_tensor()\n",
    "    \n",
    "    r = tf.transpose(tf.concat((r1, r2), 0))\n",
    "    nearby_tickets_values = tf.reshape(nearby_tickets, (-1,))\n",
    "    \n",
    "    results = tf.vectorized_map(\n",
    "        lambda v: (v >= r[0]) & (v <= r[1]),\n",
    "        nearby_tickets_values\n",
    "    )\n",
    "    \n",
    "    return tf.reduce_sum(nearby_tickets_values[~tf.reduce_any(results, 1)])\n",
    "\n",
    "%timeit solve(s)"
   ]
  },
  {
   "cell_type": "code",
   "execution_count": 3,
   "metadata": {},
   "outputs": [
    {
     "name": "stdout",
     "output_type": "stream",
     "text": [
      "3.7 ms ± 78.9 µs per loop (mean ± std. dev. of 7 runs, 1 loop each)\n"
     ]
    }
   ],
   "source": [
    "s = tf.io.read_file('day16.txt')\n",
    "\n",
    "@tf.function\n",
    "def solve(s):\n",
    "    s = tf.strings.split(s, '\\n\\n')\n",
    "    s = tf.strings.split(s, '\\n')\n",
    "    s = tf.strings.split(s, ',')\n",
    "    rules = s[0].to_tensor()[:,0]\n",
    "    your_ticket= tf.strings.to_number(s[1][1:].to_tensor())\n",
    "    nearby_tickets= tf.strings.to_number(s[2][1:].to_tensor())\n",
    "    n_tickets = tf.shape(nearby_tickets)[0]\n",
    "    rules = tf.strings.split(rules, ':').to_tensor()\n",
    "    n_rules = tf.shape(rules)[0]\n",
    "    rule_names = rules[:,0]\n",
    "    rule_values = rules[:,1]\n",
    "    rule_values = tf.strings.split(rule_values, ' ').to_tensor()\n",
    "    r1 = rule_values[:,1]\n",
    "    r2 = rule_values[:,3]\n",
    "    r1 = tf.strings.to_number(tf.strings.split(r1, '-')).to_tensor()\n",
    "    r2 = tf.strings.to_number(tf.strings.split(r2, '-')).to_tensor()\n",
    "    \n",
    "    all_rules = tf.transpose(tf.concat((r1, r2), 0))\n",
    "    nearby_tickets_values = tf.reshape(nearby_tickets, (-1,))\n",
    "    \n",
    "    results = tf.vectorized_map(\n",
    "        lambda v: (v >= all_rules[0]) & (v <= all_rules[1]),\n",
    "        nearby_tickets_values\n",
    "    )\n",
    "    \n",
    "    mask = tf.reduce_all(tf.reshape(tf.reduce_any(results, 1), tf.shape(nearby_tickets)), 1)\n",
    "    nearby_tickets = nearby_tickets[mask]\n",
    "\n",
    "    r = tf.stack((r1, r2), 1)\n",
    "    tiled_tickets = tf.tile(nearby_tickets[:,:,None, None], (1, 1, n_rules, 2))\n",
    "    \n",
    "    results = (tiled_tickets >= r[:,:,0]) & (tiled_tickets <= r[:,:,1])\n",
    "    # nth_ticket x nth_value x nth_rule_valid\n",
    "    results = tf.reduce_any(results, -1)\n",
    "    results = tf.reduce_all(results, 0)\n",
    "    \n",
    "    ta = tf.TensorArray(tf.int64, size=n_rules)\n",
    "\n",
    "    for _ in tf.range(n_rules):\n",
    "        row_mask = tf.math.count_nonzero(results, 1) == 1\n",
    "        row_to_drop = tf.where(row_mask)[0][0]\n",
    "        masked_results = results[row_mask][0]\n",
    "        column_to_drop = tf.where(masked_results)[0][0]\n",
    "        ta = ta.write(tf.cast(column_to_drop, tf.int32), row_to_drop)\n",
    "        results &= tf.tile(~masked_results[None,:], (n_rules, 1))\n",
    "\n",
    "    permutation = ta.stack()\n",
    "\n",
    "    gathered = tf.gather(your_ticket[0], permutation)\n",
    "    gathered = tf.cast(gathered, tf.int64)\n",
    "    return tf.reduce_prod(gathered[:6])\n",
    "    \n",
    "%timeit solve(s)"
   ]
  },
  {
   "cell_type": "markdown",
   "metadata": {},
   "source": [
    "nth_ticket x nth_value x nth_rule"
   ]
  },
  {
   "cell_type": "code",
   "execution_count": null,
   "metadata": {},
   "outputs": [],
   "source": []
  }
 ],
 "metadata": {
  "kernelspec": {
   "display_name": "Python 3",
   "language": "python",
   "name": "python3"
  },
  "language_info": {
   "codemirror_mode": {
    "name": "ipython",
    "version": 3
   },
   "file_extension": ".py",
   "mimetype": "text/x-python",
   "name": "python",
   "nbconvert_exporter": "python",
   "pygments_lexer": "ipython3",
   "version": "3.8.0"
  }
 },
 "nbformat": 4,
 "nbformat_minor": 4
}
