{
 "cells": [
  {
   "cell_type": "code",
   "execution_count": 1,
   "metadata": {},
   "outputs": [],
   "source": [
    "import tensorflow as tf\n",
    "# Fixes bad convolution\n",
    "gpus = tf.config.experimental.list_physical_devices('GPU')\n",
    "for gpu in gpus:\n",
    "    tf.config.experimental.set_memory_growth(gpu, True)"
   ]
  },
  {
   "cell_type": "code",
   "execution_count": 2,
   "metadata": {},
   "outputs": [],
   "source": [
    "s = tf.io.read_file('day11.txt')\n",
    "s = tf.strings.split(s, '\\n')\n",
    "s = tf.strings.unicode_decode(s, 'UTF-8')\n",
    "s = s.to_tensor()\n",
    "# 46 is the ., meaning floor\n",
    "s -= 46\n",
    "# Divide by thirty, this means 1 is empty seat, 0 is floor\n",
    "s /= 30\n",
    "s = tf.cast(s, tf.float32)\n",
    "\n",
    "# The not floor mask is 0 on floor tiles, and 1 on others. This makes it easy to fix after convolving\n",
    "not_floor_mask = s\n",
    "empty_seats = s\n",
    "occupied_seats = tf.zeros_like(empty_seats)"
   ]
  },
  {
   "cell_type": "code",
   "execution_count": 3,
   "metadata": {},
   "outputs": [
    {
     "name": "stdout",
     "output_type": "stream",
     "text": [
      "4.3 ms ± 95.1 µs per loop (mean ± std. dev. of 7 runs, 1 loop each)\n"
     ]
    },
    {
     "data": {
      "text/plain": [
       "<tf.Tensor: shape=(), dtype=float32, numpy=2468.0>"
      ]
     },
     "execution_count": 3,
     "metadata": {},
     "output_type": "execute_result"
    }
   ],
   "source": [
    "@tf.function(experimental_compile=True)\n",
    "def solve(not_floor_mask):\n",
    "    kernel = tf.constant([\n",
    "        [1, 1, 1],\n",
    "        [1, 0, 1],\n",
    "        [1, 1, 1]\n",
    "    ], tf.float32)[:,:,None,None]\n",
    "\n",
    "    # Batch and channel dimensions, necessary for conv2D\n",
    "    not_floor_mask = not_floor_mask[None,:,:,None]\n",
    "    occupied_seats = tf.zeros_like(not_floor_mask)\n",
    "\n",
    "    last_occupied = tf.ones_like(occupied_seats)\n",
    "\n",
    "    while not tf.reduce_all(last_occupied == occupied_seats):\n",
    "        last_occupied = occupied_seats\n",
    "        convolution = tf.nn.conv2d(occupied_seats, kernel, strides=1, padding='SAME')\n",
    "\n",
    "        empty_to_occupied = tf.where(convolution == 0, 1.0, 0.0)\n",
    "        empty_to_occupied *= (1-occupied_seats)*not_floor_mask\n",
    "\n",
    "        occupied_to_empty = tf.where(convolution >= 4, 1.0, 0.0)\n",
    "        occupied_to_empty *= occupied_seats\n",
    "        \n",
    "        occupied_seats += (empty_to_occupied - occupied_to_empty)\n",
    "\n",
    "    return tf.reduce_sum(occupied_seats)\n",
    "\n",
    "%timeit solve(not_floor_mask)\n",
    "solve(not_floor_mask)"
   ]
  },
  {
   "cell_type": "code",
   "execution_count": 4,
   "metadata": {},
   "outputs": [],
   "source": [
    "n = (occupied_seats.shape[0]//2)\n",
    "rnge = 2**tf.range(n-1, -1, -1, dtype=tf.float64)\n",
    "\n",
    "kernel_e = tf.concat((\n",
    "    tf.zeros((n,2*n+1), tf.float64),\n",
    "    tf.concat((tf.zeros(n, tf.float64), [0], rnge), 0)[None,:],\n",
    "    tf.zeros((n,2*n+1), tf.float64),\n",
    "), axis=0)\n",
    "\n",
    "kernel_w = tf.concat((\n",
    "    tf.zeros((n,2*n+1), tf.float64),\n",
    "    tf.concat((rnge[::-1], [0], tf.zeros(n, tf.float64)), 0)[None,:],\n",
    "    tf.zeros((n,2*n+1), tf.float64),\n",
    "), axis=0)\n",
    "\n",
    "kernel_s = tf.concat((\n",
    "    tf.zeros((2*n+1,n), tf.float64),\n",
    "    tf.concat((tf.zeros(n, tf.float64), [0], rnge), 0)[:,None],\n",
    "    tf.zeros((2*n+1,n), tf.float64),\n",
    "), axis=1)\n",
    "\n",
    "kernel_n = tf.concat((\n",
    "    tf.zeros((2*n+1,n), tf.float64),\n",
    "    tf.concat((rnge[::-1], [0], tf.zeros(n, tf.float64)), 0)[:,None],\n",
    "    tf.zeros((2*n+1,n), tf.float64),\n",
    "), axis=1)\n",
    "\n",
    "kernel_ne = tf.concat((\n",
    "    tf.zeros((n, n+1), tf.float64),\n",
    "    tf.linalg.diag(rnge)[::-1]\n",
    "), axis=1)\n",
    "kernel_ne = tf.concat((\n",
    "    kernel_ne,\n",
    "    tf.zeros((n+1, 2*n+1), tf.float64)\n",
    "), axis=0)\n",
    "\n",
    "kernel_se = tf.concat((\n",
    "    tf.zeros((n, n+1), tf.float64),\n",
    "    tf.linalg.diag(rnge)\n",
    "), axis=1)\n",
    "kernel_se = tf.concat((\n",
    "    tf.zeros((n+1, 2*n+1), tf.float64),\n",
    "    kernel_se,\n",
    "), axis=0)\n",
    "\n",
    "kernel_sw = tf.concat((\n",
    "    tf.linalg.diag(rnge)[:,::-1],\n",
    "    tf.zeros((n, n+1), tf.float64),\n",
    "), axis=1)\n",
    "kernel_sw = tf.concat((\n",
    "    tf.zeros((n+1, 2*n+1), tf.float64),\n",
    "    kernel_sw,\n",
    "), axis=0)\n",
    "\n",
    "kernel_nw = tf.concat((\n",
    "    tf.linalg.diag(rnge)[::-1,::-1],\n",
    "    tf.zeros((n, n+1), tf.float64),\n",
    "), axis=1)\n",
    "kernel_nw = tf.concat((\n",
    "    kernel_nw,\n",
    "    tf.zeros((n+1, 2*n+1), tf.float64),\n",
    "), axis=0)\n",
    "\n",
    "kernels = tf.stack([\n",
    "    kernel_n,\n",
    "    kernel_e,\n",
    "    kernel_s,\n",
    "    kernel_w,\n",
    "    kernel_ne,\n",
    "    kernel_se, \n",
    "    kernel_sw,\n",
    "    kernel_nw\n",
    "],  axis=-1)[:,:,None,:]"
   ]
  },
  {
   "cell_type": "code",
   "execution_count": 5,
   "metadata": {},
   "outputs": [
    {
     "name": "stdout",
     "output_type": "stream",
     "text": [
      "1.22 s ± 2.72 ms per loop (mean ± std. dev. of 7 runs, 1 loop each)\n"
     ]
    },
    {
     "data": {
      "text/plain": [
       "<tf.Tensor: shape=(), dtype=float64, numpy=2214.0>"
      ]
     },
     "execution_count": 5,
     "metadata": {},
     "output_type": "execute_result"
    }
   ],
   "source": [
    "@tf.function(experimental_compile=True)\n",
    "def solve2(not_floor_mask, kernels):\n",
    "    # Batch and channel dimensions, necessary for conv2D\n",
    "    occupied_seats = tf.zeros_like(not_floor_mask, tf.float64)[None,:,:,None]\n",
    "    not_floor_mask = tf.cast(not_floor_mask[None,:,:,None], tf.float64)\n",
    "\n",
    "    last_occupied = tf.ones_like(occupied_seats)\n",
    "    \n",
    "    while not tf.reduce_all(last_occupied == occupied_seats):\n",
    "        last_occupied = occupied_seats\n",
    "        empty_seats = (1 - occupied_seats)*not_floor_mask\n",
    "        convolution = tf.nn.conv2d(tf.concat((occupied_seats, empty_seats), axis=0), kernels, strides=1, padding='SAME')    \n",
    "\n",
    "        # If conv[0] > conv[1] in a filter, then an occupied seat is closer than an empty seat\n",
    "        # conv[0,:,:,2] >= conv[1,:,:,2]\n",
    "        # So we use math.count_nonzero to see if \n",
    "        convolution = tf.math.count_nonzero(convolution[0] > convolution[1], axis=-1, dtype=tf.float64)[None,:,:,None]\n",
    "        empty_to_occupied = tf.where(convolution == 0.0, tf.constant(1.0, tf.float64), tf.constant(0.0, tf.float64))\n",
    "        empty_to_occupied *= (1-occupied_seats)*not_floor_mask\n",
    "\n",
    "        occupied_to_empty = tf.where(convolution >= 5.0, tf.constant(1.0, tf.float64), tf.constant(0.0, tf.float64))\n",
    "        occupied_to_empty *= occupied_seats\n",
    "        \n",
    "        occupied_seats += (empty_to_occupied - occupied_to_empty)\n",
    "\n",
    "    return tf.reduce_sum(occupied_seats)\n",
    "\n",
    "%timeit solve2(not_floor_mask, kernels)\n",
    "solve2(not_floor_mask, kernels)"
   ]
  }
 ],
 "metadata": {
  "kernelspec": {
   "display_name": "Python 3",
   "language": "python",
   "name": "python3"
  },
  "language_info": {
   "codemirror_mode": {
    "name": "ipython",
    "version": 3
   },
   "file_extension": ".py",
   "mimetype": "text/x-python",
   "name": "python",
   "nbconvert_exporter": "python",
   "pygments_lexer": "ipython3",
   "version": "3.8.0"
  }
 },
 "nbformat": 4,
 "nbformat_minor": 4
}
