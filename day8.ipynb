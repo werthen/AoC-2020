{
 "cells": [
  {
   "cell_type": "code",
   "execution_count": 1,
   "metadata": {},
   "outputs": [],
   "source": [
    "import tensorflow as tf"
   ]
  },
  {
   "cell_type": "code",
   "execution_count": 33,
   "metadata": {},
   "outputs": [
    {
     "data": {
      "text/plain": [
       "<tf.Tensor: shape=(), dtype=int32, numpy=1384>"
      ]
     },
     "execution_count": 33,
     "metadata": {},
     "output_type": "execute_result"
    }
   ],
   "source": [
    "def convert_to_instruction(op_name, val):\n",
    "    if op_name == 'nop':\n",
    "        return tf.stack([1, 0], 0)\n",
    "    elif op_name == 'acc':\n",
    "        return tf.stack([1, val], 0)\n",
    "    elif op_name == 'jmp':\n",
    "        return tf.stack([val, 0], 0)\n",
    "    else:\n",
    "        return tf.stack([0, 0], 0)\n",
    "    \n",
    "s = tf.io.read_file('day8.txt')\n",
    "s = tf.strings.split(s, '\\n')\n",
    "s = tf.strings.split(s, ' ')\n",
    "s = s.to_tensor()\n",
    "op_names = tf.map_fn(\n",
    "    lambda x: x[0], \n",
    "    s\n",
    ")\n",
    "vals = tf.map_fn(\n",
    "    lambda x: tf.strings.to_number(x[1]), \n",
    "    s,\n",
    "    fn_output_signature=tf.TensorSpec(None, tf.float32)\n",
    ")\n",
    "vals = tf.cast(vals, tf.int32)\n",
    "\n",
    "instructions = tf.map_fn(\n",
    "    lambda i: convert_to_instruction(op_names[i], vals[i]),\n",
    "    tf.range(vals.shape[0]),\n",
    "    fn_output_signature=tf.TensorSpec((2,), tf.int32),\n",
    ")\n",
    "\n",
    "@tf.function(experimental_compile=True)\n",
    "def solve(instructions):\n",
    "    n_ops = instructions.shape[0]\n",
    "    state = tf.constant([0, 0])    \n",
    "    op_visits = tf.one_hot(0, n_ops, dtype=tf.int32)\n",
    "\n",
    "    while state[0] < n_ops and op_visits[state[0]] < 2:\n",
    "        state += instructions[state[0]]\n",
    "        op_visits = op_visits + tf.one_hot(state[0], n_ops, dtype=tf.int32)\n",
    "\n",
    "    return state\n",
    "\n",
    "solve(instructions)[1]"
   ]
  },
  {
   "cell_type": "code",
   "execution_count": 34,
   "metadata": {},
   "outputs": [
    {
     "name": "stdout",
     "output_type": "stream",
     "text": [
      "7.8 ms ± 80.8 µs per loop (mean ± std. dev. of 7 runs, 100 loops each)\n"
     ]
    }
   ],
   "source": [
    "%%timeit\n",
    "solve(instructions)"
   ]
  },
  {
   "cell_type": "code",
   "execution_count": 21,
   "metadata": {},
   "outputs": [],
   "source": [
    "@tf.function(input_signature=[tf.TensorSpec(shape=(None,) + instructions.shape, dtype=tf.int32), tf.TensorSpec(shape=None, dtype=tf.int32)])\n",
    "def combine_if_jmp_or_nop(acc, i):\n",
    "    if op_names[i] == 'acc':\n",
    "        return acc\n",
    "    else:\n",
    "        new_op_name = 'nop'\n",
    "        if op_names[i] == 'nop':\n",
    "            new_op_name = 'jmp'\n",
    "\n",
    "        new_instructions = tf.concat([\n",
    "            instructions[:i],\n",
    "            tf.expand_dims(convert_to_instruction(new_op_name, vals[i]), 0),\n",
    "            instructions[i+1:],\n",
    "        ], 0)\n",
    "        return tf.concat([tf.expand_dims(new_instructions, 0), acc], 0)\n",
    "\n",
    "all_possible_programs = tf.foldr(\n",
    "    combine_if_jmp_or_nop,\n",
    "    tf.range(op_names.shape[0]),\n",
    "    tf.zeros((0, *instructions.shape), tf.int32)\n",
    ")"
   ]
  },
  {
   "cell_type": "code",
   "execution_count": 48,
   "metadata": {},
   "outputs": [],
   "source": [
    "@tf.function\n",
    "def solve2():\n",
    "    def mapper(acc, program):\n",
    "        if acc[0] != 0:\n",
    "            return acc\n",
    "\n",
    "        state = solve(program)\n",
    "        \n",
    "        if state[0] >= all_possible_programs.shape[1]:\n",
    "            return tf.stack([1, state[1]], 0)\n",
    "        else:\n",
    "            return acc\n",
    "\n",
    "    return tf.foldl(\n",
    "        mapper,\n",
    "        all_possible_programs,\n",
    "        tf.constant([0, 0])\n",
    "    )"
   ]
  },
  {
   "cell_type": "code",
   "execution_count": 49,
   "metadata": {},
   "outputs": [
    {
     "name": "stdout",
     "output_type": "stream",
     "text": [
      "CPU times: user 1.4 s, sys: 34.4 ms, total: 1.44 s\n",
      "Wall time: 1.21 s\n"
     ]
    },
    {
     "data": {
      "text/plain": [
       "<tf.Tensor: shape=(), dtype=int32, numpy=761>"
      ]
     },
     "execution_count": 49,
     "metadata": {},
     "output_type": "execute_result"
    }
   ],
   "source": [
    "%%time\n",
    "solve2()[1]"
   ]
  },
  {
   "cell_type": "code",
   "execution_count": 11,
   "metadata": {},
   "outputs": [],
   "source": [
    "import datetime\n",
    "# Set up logging.\n",
    "stamp = datetime.datetime.now().strftime(\"%Y%m%d-%H%M%S\")\n",
    "logdir = 'logs/day8_graph/%s' % stamp\n",
    "\n",
    "# Bracket the function call with\n",
    "# tf.summary.trace_on() and tf.summary.trace_export().\n",
    "tf.profiler.experimental.start(logdir)\n",
    "solve2()\n",
    "tf.profiler.experimental.stop()"
   ]
  },
  {
   "cell_type": "code",
   "execution_count": null,
   "metadata": {},
   "outputs": [],
   "source": []
  }
 ],
 "metadata": {
  "kernelspec": {
   "display_name": "Python 3",
   "language": "python",
   "name": "python3"
  },
  "language_info": {
   "codemirror_mode": {
    "name": "ipython",
    "version": 3
   },
   "file_extension": ".py",
   "mimetype": "text/x-python",
   "name": "python",
   "nbconvert_exporter": "python",
   "pygments_lexer": "ipython3",
   "version": "3.8.0"
  }
 },
 "nbformat": 4,
 "nbformat_minor": 4
}
