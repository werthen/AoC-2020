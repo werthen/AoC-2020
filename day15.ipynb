{
 "cells": [
  {
   "cell_type": "code",
   "execution_count": 1,
   "metadata": {},
   "outputs": [],
   "source": [
    "import tensorflow as tf\n",
    "# Fixes bad convolution\n",
    "gpus = tf.config.experimental.list_physical_devices('GPU')\n",
    "for gpu in gpus:\n",
    "    tf.config.experimental.set_memory_growth(gpu, True)"
   ]
  },
  {
   "cell_type": "code",
   "execution_count": 4,
   "metadata": {},
   "outputs": [],
   "source": [
    "inp = tf.constant([1, 3, 2])\n",
    "\n",
    "#@tf.function(experimental_compile=True)\n",
    "def solve(inp, until_turn=2020):\n",
    "    ta = tf.TensorArray(tf.int32, size=until_turn)\n",
    "    n = inp.shape[0]\n",
    "    \n",
    "    for i in tf.range(n):\n",
    "        turn = i+1\n",
    "        ta = ta.write(inp[i], turn)\n",
    "    \n",
    "    prev_x = 0\n",
    "\n",
    "    for i in tf.range(n, until_turn-1):\n",
    "        last_turn = i+1\n",
    "        prev_turn = ta.read(prev_x)\n",
    "        if prev_turn == 0:\n",
    "            new_x = 0\n",
    "        else:\n",
    "            new_x = last_turn-prev_turn\n",
    "        \n",
    "        ta = ta.write(prev_x, last_turn)\n",
    "        prev_x = new_x\n",
    "    ta = ta.close()\n",
    "    return prev_x\n",
    "\n",
    "assert solve(tf.constant([0, 3, 6])) == 436\n",
    "assert solve(tf.constant([1, 3, 2])) == 1\n",
    "assert solve(tf.constant([2, 1, 3])) == 10\n",
    "assert solve(tf.constant([1, 2, 3])) == 27"
   ]
  },
  {
   "cell_type": "code",
   "execution_count": 5,
   "metadata": {},
   "outputs": [
    {
     "name": "stdout",
     "output_type": "stream",
     "text": [
      "512 ms ± 1.5 ms per loop (mean ± std. dev. of 7 runs, 1 loop each)\n"
     ]
    },
    {
     "data": {
      "text/plain": [
       "<tf.Tensor: shape=(), dtype=int32, numpy=1009>"
      ]
     },
     "execution_count": 5,
     "metadata": {},
     "output_type": "execute_result"
    }
   ],
   "source": [
    "%timeit solve(tf.constant([2,0,1,9,5,19]))\n",
    "solve(tf.constant([2,0,1,9,5,19]))"
   ]
  },
  {
   "cell_type": "code",
   "execution_count": null,
   "metadata": {},
   "outputs": [],
   "source": [
    "solve(tf.constant([2,0,1,9,5,19]), )"
   ]
  }
 ],
 "metadata": {
  "kernelspec": {
   "display_name": "Python 3",
   "language": "python",
   "name": "python3"
  },
  "language_info": {
   "codemirror_mode": {
    "name": "ipython",
    "version": 3
   },
   "file_extension": ".py",
   "mimetype": "text/x-python",
   "name": "python",
   "nbconvert_exporter": "python",
   "pygments_lexer": "ipython3",
   "version": "3.8.0"
  }
 },
 "nbformat": 4,
 "nbformat_minor": 4
}
