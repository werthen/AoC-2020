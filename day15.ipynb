{
 "cells": [
  {
   "cell_type": "code",
   "execution_count": 1,
   "metadata": {},
   "outputs": [],
   "source": [
    "import tensorflow as tf\n",
    "try:\n",
    "    # Disable all GPUS\n",
    "    tf.config.set_visible_devices([], 'GPU')\n",
    "    visible_devices = tf.config.get_visible_devices()\n",
    "    for device in visible_devices:\n",
    "        assert device.device_type != 'GPU'\n",
    "except:\n",
    "    # Invalid device or cannot modify virtual devices once initialized.\n",
    "    pass\n",
    "\n",
    "# Fixes bad convolution\n",
    "#gpus = tf.config.experimental.list_physical_devices('GPU')\n",
    "#for gpu in gpus:\n",
    "#    tf.config.experimental.set_memory_growth(gpu, True)"
   ]
  },
  {
   "cell_type": "code",
   "execution_count": 2,
   "metadata": {},
   "outputs": [],
   "source": [
    "tf.config.threading.set_inter_op_parallelism_threads(\n",
    "    16\n",
    ")\n",
    "tf.config.threading.set_intra_op_parallelism_threads(\n",
    "    16\n",
    ")"
   ]
  },
  {
   "cell_type": "code",
   "execution_count": 3,
   "metadata": {},
   "outputs": [],
   "source": [
    "inp = tf.constant([1, 3, 2])\n",
    "\n",
    "@tf.function(experimental_compile=True)\n",
    "def solve(inp, until_turn=2020):\n",
    "    ta = tf.TensorArray(tf.int32, size=until_turn, clear_after_read=False)\n",
    "    n = inp.shape[0]\n",
    "    \n",
    "    for i in tf.range(n):\n",
    "        turn = i+1\n",
    "        ta = ta.write(inp[i], turn)\n",
    "    \n",
    "    x = 0\n",
    "\n",
    "    for i in tf.range(n, until_turn-1):\n",
    "        prev_turn = ta.read(x)\n",
    "        ta = ta.write(x, i+1)\n",
    "        \n",
    "        x = 0\n",
    "        if prev_turn > 0:\n",
    "            x = i+1-prev_turn\n",
    "    \n",
    "    ta = ta.close()\n",
    "    return x\n",
    "\n",
    "assert solve(tf.constant([0, 3, 6])) == 436\n",
    "assert solve(tf.constant([1, 3, 2])) == 1\n",
    "assert solve(tf.constant([2, 1, 3])) == 10\n",
    "assert solve(tf.constant([1, 2, 3])) == 27"
   ]
  },
  {
   "cell_type": "code",
   "execution_count": 4,
   "metadata": {},
   "outputs": [
    {
     "name": "stdout",
     "output_type": "stream",
     "text": [
      "794 µs ± 14.5 µs per loop (mean ± std. dev. of 7 runs, 1000 loops each)\n"
     ]
    }
   ],
   "source": [
    "%%timeit\n",
    "solve(tf.constant([2,0,1,9,5,19]))"
   ]
  },
  {
   "cell_type": "code",
   "execution_count": null,
   "metadata": {},
   "outputs": [],
   "source": [
    "%%time\n",
    "solve(tf.constant([2,0,1,9,5,19]), 30_000_000)"
   ]
  },
  {
   "cell_type": "code",
   "execution_count": 30,
   "metadata": {},
   "outputs": [],
   "source": [
    "import datetime\n",
    "# Set up logging.\n",
    "stamp = datetime.datetime.now().strftime(\"%Y%m%d-%H%M%S\")\n",
    "logdir = 'logs/day15/%s' % stamp\n",
    "\n",
    "# Bracket the function call with\n",
    "# tf.summary.trace_on() and tf.summary.trace_export().\n",
    "tf.profiler.experimental.start(logdir)\n",
    "solve(tf.constant([2,0,1,9,5,19]), 30000)\n",
    "tf.profiler.experimental.stop()"
   ]
  },
  {
   "cell_type": "code",
   "execution_count": null,
   "metadata": {},
   "outputs": [],
   "source": []
  }
 ],
 "metadata": {
  "kernelspec": {
   "display_name": "Python 3",
   "language": "python",
   "name": "python3"
  },
  "language_info": {
   "codemirror_mode": {
    "name": "ipython",
    "version": 3
   },
   "file_extension": ".py",
   "mimetype": "text/x-python",
   "name": "python",
   "nbconvert_exporter": "python",
   "pygments_lexer": "ipython3",
   "version": "3.8.0"
  }
 },
 "nbformat": 4,
 "nbformat_minor": 4
}
