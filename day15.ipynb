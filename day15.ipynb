{
 "cells": [
  {
   "cell_type": "code",
   "execution_count": 1,
   "metadata": {},
   "outputs": [],
   "source": [
    "import tensorflow as tf\n",
    "try:\n",
    "    # Disable all GPUS\n",
    "    tf.config.set_visible_devices([], 'GPU')\n",
    "    visible_devices = tf.config.get_visible_devices()\n",
    "    for device in visible_devices:\n",
    "        assert device.device_type != 'GPU'\n",
    "except:\n",
    "    # Invalid device or cannot modify virtual devices once initialized.\n",
    "    pass\n",
    "\n",
    "# Fixes bad convolution\n",
    "#gpus = tf.config.experimental.list_physical_devices('GPU')\n",
    "#for gpu in gpus:\n",
    "#    tf.config.experimental.set_memory_growth(gpu, True)"
   ]
  },
  {
   "cell_type": "code",
   "execution_count": 2,
   "metadata": {},
   "outputs": [],
   "source": [
    "tf.config.threading.set_inter_op_parallelism_threads(\n",
    "    16\n",
    ")\n",
    "tf.config.threading.set_intra_op_parallelism_threads(\n",
    "    16\n",
    ")"
   ]
  },
  {
   "cell_type": "code",
   "execution_count": 3,
   "metadata": {},
   "outputs": [
    {
     "name": "stdout",
     "output_type": "stream",
     "text": [
      "tf.Tensor(0, shape=(), dtype=int32)\n"
     ]
    }
   ],
   "source": [
    "inp = tf.constant([1, 3, 2])\n",
    "\n",
    "@tf.function(experimental_compile=True)\n",
    "def solve(inp, until_turn=2020):\n",
    "    inp = tf.cast(inp, tf.int32)\n",
    "    n = inp.shape[0]\n",
    "    res = tf.pad(inp[None,:], [[0, 0], [0, until_turn - n]], constant_values=-1)[0]\n",
    "    \n",
    "    rnge = tf.range(until_turn+1, dtype=tf.int32)\n",
    "    \n",
    "    x = tf.constant(0, tf.int32)\n",
    "    for i in rnge[n:-1]:\n",
    "        mask = (tf.cast(res == x, tf.int32))*rnge[1:]\n",
    "        max_val = tf.reduce_max(mask)\n",
    "        \n",
    "        if max_val == 0:\n",
    "            t_ps = i\n",
    "        else:\n",
    "            t_ps = max_val-1\n",
    "\n",
    "        #res += tf.one_hot(i, until_turn, dtype=tf.int32)*(x+1)\n",
    "        res = tf.tensor_scatter_nd_update(res, [[i]], [x])\n",
    "\n",
    "        x = i-t_ps\n",
    "    \n",
    "    return res[-1]\n",
    "\n",
    "assert solve(tf.constant([0, 3, 6])) == 436\n",
    "assert solve(tf.constant([1, 3, 2])) == 1\n",
    "assert solve(tf.constant([2, 1, 3])) == 10\n",
    "assert solve(tf.constant([1, 2, 3])) == 27\n",
    "\n",
    "print(solve(tf.constant([0, 3, 6], tf.int64), 10))"
   ]
  },
  {
   "cell_type": "code",
   "execution_count": 5,
   "metadata": {},
   "outputs": [
    {
     "name": "stdout",
     "output_type": "stream",
     "text": [
      "CPU times: user 16.7 s, sys: 52.2 ms, total: 16.7 s\n",
      "Wall time: 16.8 s\n"
     ]
    },
    {
     "data": {
      "text/plain": [
       "<tf.Tensor: shape=(), dtype=int32, numpy=8336>"
      ]
     },
     "execution_count": 5,
     "metadata": {},
     "output_type": "execute_result"
    }
   ],
   "source": [
    "%%time\n",
    "solve(tf.constant([2,0,1,9,5,19]), 300000)"
   ]
  },
  {
   "cell_type": "code",
   "execution_count": null,
   "metadata": {},
   "outputs": [],
   "source": [
    "%%time\n",
    "solve(tf.constant([2,0,1,9,5,19]), 30_000_000)"
   ]
  },
  {
   "cell_type": "code",
   "execution_count": 30,
   "metadata": {},
   "outputs": [],
   "source": [
    "import datetime\n",
    "# Set up logging.\n",
    "stamp = datetime.datetime.now().strftime(\"%Y%m%d-%H%M%S\")\n",
    "logdir = 'logs/day15/%s' % stamp\n",
    "\n",
    "# Bracket the function call with\n",
    "# tf.summary.trace_on() and tf.summary.trace_export().\n",
    "tf.profiler.experimental.start(logdir)\n",
    "solve(tf.constant([2,0,1,9,5,19]), 30000)\n",
    "tf.profiler.experimental.stop()"
   ]
  },
  {
   "cell_type": "code",
   "execution_count": 70,
   "metadata": {},
   "outputs": [
    {
     "name": "stdout",
     "output_type": "stream",
     "text": [
      "0\n",
      "5\n",
      "3\n",
      "0\n"
     ]
    }
   ],
   "source": [
    "res = [2,0,1,9,5,19]\n",
    "last_pos = dict(zip(res, range(len(res))))\n",
    "for i in range(5, 10-1):\n",
    "    print(i - last_pos.get(res[i], i))\n",
    "    res.append(i - last_pos.get(res[i], i))\n",
    "    last_pos[res[i]] = i"
   ]
  },
  {
   "cell_type": "code",
   "execution_count": 71,
   "metadata": {},
   "outputs": [
    {
     "data": {
      "text/plain": [
       "[2, 0, 1, 9, 5, 19, 0, 5, 3, 0]"
      ]
     },
     "execution_count": 71,
     "metadata": {},
     "output_type": "execute_result"
    }
   ],
   "source": [
    "res"
   ]
  },
  {
   "cell_type": "code",
   "execution_count": 15,
   "metadata": {},
   "outputs": [],
   "source": [
    "res = tf.constant([2,0,1,9,5,19])\n",
    "\n",
    "@tf.function\n",
    "def solve1(res, n):\n",
    "    last_pos = tf.lookup.experimental.DenseHashTable(\n",
    "        tf.int32, tf.int32, -1, -1, -2, initial_num_buckets=2**16, name='stuffs4'\n",
    "    )\n",
    "\n",
    "    for i in tf.range(res.shape[0]):\n",
    "        x = res[i]\n",
    "        last_pos.insert(x, i)\n",
    "    \n",
    "    last_x = res[-1]\n",
    "    \n",
    "    for i in tf.range(res.shape[0]-1, n-1):\n",
    "        last_pos_val = last_pos[last_x]\n",
    "        \n",
    "        if last_pos_val == -1:\n",
    "            last_pos_val = i\n",
    "\n",
    "        last_pos.insert_or_assign(last_x, i)\n",
    "        last_x = i-last_pos_val\n",
    "\n",
    "    return last_x\n",
    "\n",
    "#solve(tf.constant([0,3,6]), 10)\n",
    "#solve1(res, 2020)"
   ]
  },
  {
   "cell_type": "code",
   "execution_count": 16,
   "metadata": {},
   "outputs": [
    {
     "data": {
      "text/plain": [
       "tensorflow.python.eager.def_function.Function"
      ]
     },
     "execution_count": 16,
     "metadata": {},
     "output_type": "execute_result"
    }
   ],
   "source": [
    "type(solve1)"
   ]
  },
  {
   "cell_type": "code",
   "execution_count": 17,
   "metadata": {},
   "outputs": [
    {
     "name": "stdout",
     "output_type": "stream",
     "text": [
      "CPU times: user 6min 57s, sys: 49.6 ms, total: 6min 57s\n",
      "Wall time: 6min 58s\n"
     ]
    },
    {
     "data": {
      "text/plain": [
       "<tf.Tensor: shape=(), dtype=int32, numpy=62714>"
      ]
     },
     "execution_count": 17,
     "metadata": {},
     "output_type": "execute_result"
    }
   ],
   "source": [
    "%%time\n",
    "solve1(res, 30_000_000)"
   ]
  },
  {
   "cell_type": "code",
   "execution_count": null,
   "metadata": {},
   "outputs": [],
   "source": []
  }
 ],
 "metadata": {
  "kernelspec": {
   "display_name": "Python 3",
   "language": "python",
   "name": "python3"
  },
  "language_info": {
   "codemirror_mode": {
    "name": "ipython",
    "version": 3
   },
   "file_extension": ".py",
   "mimetype": "text/x-python",
   "name": "python",
   "nbconvert_exporter": "python",
   "pygments_lexer": "ipython3",
   "version": "3.8.0"
  }
 },
 "nbformat": 4,
 "nbformat_minor": 4
}
