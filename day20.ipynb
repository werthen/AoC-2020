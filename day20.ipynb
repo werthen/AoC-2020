{
 "cells": [
  {
   "cell_type": "code",
   "execution_count": 1,
   "metadata": {},
   "outputs": [],
   "source": [
    "import tensorflow as tf\n",
    "# Fixes bad convolution\n",
    "gpus = tf.config.experimental.list_physical_devices('GPU')\n",
    "for gpu in gpus:\n",
    "    tf.config.experimental.set_memory_growth(gpu, True)"
   ]
  },
  {
   "cell_type": "code",
   "execution_count": 77,
   "metadata": {},
   "outputs": [
    {
     "name": "stdout",
     "output_type": "stream",
     "text": [
      "122 ms ± 15.4 ms per loop (mean ± std. dev. of 7 runs, 1 loop each)\n"
     ]
    }
   ],
   "source": [
    "@tf.function\n",
    "def solve(s):\n",
    "    s = tf.strings.split(s, '\\n\\n')\n",
    "    s = tf.strings.split(s, '\\n')\n",
    "    s = s.to_tensor()\n",
    "    \n",
    "    tile_ids = s[:,0]\n",
    "    tile_ids = tf.strings.regex_replace(tile_ids, '[^0-9]', '')\n",
    "    tile_ids = tf.strings.to_number(tile_ids, out_type=tf.float64)\n",
    "    \n",
    "    tiles = s[:,1:]\n",
    "    tiles = tf.strings.bytes_split(tiles).to_tensor()\n",
    "    tiles = tf.where(tiles == '.', 0.0, 1.0)\n",
    "\n",
    "    top_rows = tiles[:,0]\n",
    "    bottom_rows = tiles[:,-1]\n",
    "    left_col = tiles[:,:,0]\n",
    "    right_col = tiles[:,:,-1]\n",
    "    \n",
    "    all_edges = tf.stack((top_rows, bottom_rows, left_col, right_col), axis=1)\n",
    "    rev_all_edges = all_edges[...,::-1]\n",
    "    \n",
    "    all_edges = tf.concat((all_edges, rev_all_edges), axis=1)\n",
    "    \n",
    "    ae_shape = tf.shape(all_edges)\n",
    "    rnge = tf.range(ae_shape[0])\n",
    "    inner_rnge = tf.range(ae_shape[1])\n",
    "    res = tf.constant(1, tf.float64)\n",
    "    for i in rnge:\n",
    "        mask = (rnge == i)\n",
    "        cur_edges = all_edges[mask][0]\n",
    "        other_edges = all_edges[~mask]\n",
    "        n = tf.constant(0, tf.int64)\n",
    "        for j in inner_rnge:\n",
    "            n += tf.math.count_nonzero(tf.reduce_all((cur_edges[j] == other_edges), axis=-1))\n",
    "        if n == 4:\n",
    "            res *= tile_ids[i]\n",
    "    \n",
    "    return res\n",
    "\n",
    "%timeit solve(tf.io.read_file('day20.txt'))"
   ]
  },
  {
   "cell_type": "code",
   "execution_count": 78,
   "metadata": {},
   "outputs": [
    {
     "data": {
      "text/plain": [
       "<tf.Tensor: shape=(), dtype=float64, numpy=104831106565027.0>"
      ]
     },
     "execution_count": 78,
     "metadata": {},
     "output_type": "execute_result"
    }
   ],
   "source": [
    "solve(tf.io.read_file('day20.txt'))"
   ]
  },
  {
   "cell_type": "code",
   "execution_count": 368,
   "metadata": {},
   "outputs": [
    {
     "ename": "TypeError",
     "evalue": "in user code:\n\n    <ipython-input-368-210f64fd032c>:143 solve  *\n        final_image = tf.concat(tf.unstack(final_image, num=side_length), 1)\n    /home/don/.conda/envs/aoc/lib/python3.8/site-packages/tensorflow/python/util/dispatch.py:201 wrapper  **\n        return target(*args, **kwargs)\n    /home/don/.conda/envs/aoc/lib/python3.8/site-packages/tensorflow/python/ops/array_ops.py:1582 unstack\n        return gen_array_ops.unpack(value, num=num, axis=axis, name=name)\n    /home/don/.conda/envs/aoc/lib/python3.8/site-packages/tensorflow/python/ops/gen_array_ops.py:12093 unpack\n        num = _execute.make_int(num, \"num\")\n    /home/don/.conda/envs/aoc/lib/python3.8/site-packages/tensorflow/python/eager/execute.py:173 make_int\n        raise TypeError(\"Expected int for argument '%s' not %s.\" %\n\n    TypeError: Expected int for argument 'num' not <tf.Tensor 'Cast_1:0' shape=() dtype=int32>.\n",
     "output_type": "error",
     "traceback": [
      "\u001b[0;31m---------------------------------------------------------------------------\u001b[0m",
      "\u001b[0;31mTypeError\u001b[0m                                 Traceback (most recent call last)",
      "\u001b[0;32m<ipython-input-368-210f64fd032c>\u001b[0m in \u001b[0;36m<module>\u001b[0;34m\u001b[0m\n\u001b[1;32m    158\u001b[0m     \u001b[0;32mreturn\u001b[0m \u001b[0mtf\u001b[0m\u001b[0;34m.\u001b[0m\u001b[0mreduce_sum\u001b[0m\u001b[0;34m(\u001b[0m\u001b[0mfinal_image\u001b[0m\u001b[0;34m)\u001b[0m \u001b[0;34m-\u001b[0m \u001b[0;34m(\u001b[0m\u001b[0mn_monsters\u001b[0m \u001b[0;34m*\u001b[0m \u001b[0mn_spaces_monster\u001b[0m\u001b[0;34m)\u001b[0m\u001b[0;34m\u001b[0m\u001b[0;34m\u001b[0m\u001b[0m\n\u001b[1;32m    159\u001b[0m \u001b[0;34m\u001b[0m\u001b[0m\n\u001b[0;32m--> 160\u001b[0;31m \u001b[0msolve\u001b[0m\u001b[0;34m(\u001b[0m\u001b[0mtf\u001b[0m\u001b[0;34m.\u001b[0m\u001b[0mio\u001b[0m\u001b[0;34m.\u001b[0m\u001b[0mread_file\u001b[0m\u001b[0;34m(\u001b[0m\u001b[0;34m'day20_test.txt'\u001b[0m\u001b[0;34m)\u001b[0m\u001b[0;34m)\u001b[0m\u001b[0;34m\u001b[0m\u001b[0;34m\u001b[0m\u001b[0m\n\u001b[0m",
      "\u001b[0;32m~/.conda/envs/aoc/lib/python3.8/site-packages/tensorflow/python/eager/def_function.py\u001b[0m in \u001b[0;36m__call__\u001b[0;34m(self, *args, **kwds)\u001b[0m\n\u001b[1;32m    826\u001b[0m     \u001b[0mtracing_count\u001b[0m \u001b[0;34m=\u001b[0m \u001b[0mself\u001b[0m\u001b[0;34m.\u001b[0m\u001b[0mexperimental_get_tracing_count\u001b[0m\u001b[0;34m(\u001b[0m\u001b[0;34m)\u001b[0m\u001b[0;34m\u001b[0m\u001b[0;34m\u001b[0m\u001b[0m\n\u001b[1;32m    827\u001b[0m     \u001b[0;32mwith\u001b[0m \u001b[0mtrace\u001b[0m\u001b[0;34m.\u001b[0m\u001b[0mTrace\u001b[0m\u001b[0;34m(\u001b[0m\u001b[0mself\u001b[0m\u001b[0;34m.\u001b[0m\u001b[0m_name\u001b[0m\u001b[0;34m)\u001b[0m \u001b[0;32mas\u001b[0m \u001b[0mtm\u001b[0m\u001b[0;34m:\u001b[0m\u001b[0;34m\u001b[0m\u001b[0;34m\u001b[0m\u001b[0m\n\u001b[0;32m--> 828\u001b[0;31m       \u001b[0mresult\u001b[0m \u001b[0;34m=\u001b[0m \u001b[0mself\u001b[0m\u001b[0;34m.\u001b[0m\u001b[0m_call\u001b[0m\u001b[0;34m(\u001b[0m\u001b[0;34m*\u001b[0m\u001b[0margs\u001b[0m\u001b[0;34m,\u001b[0m \u001b[0;34m**\u001b[0m\u001b[0mkwds\u001b[0m\u001b[0;34m)\u001b[0m\u001b[0;34m\u001b[0m\u001b[0;34m\u001b[0m\u001b[0m\n\u001b[0m\u001b[1;32m    829\u001b[0m       \u001b[0mcompiler\u001b[0m \u001b[0;34m=\u001b[0m \u001b[0;34m\"xla\"\u001b[0m \u001b[0;32mif\u001b[0m \u001b[0mself\u001b[0m\u001b[0;34m.\u001b[0m\u001b[0m_experimental_compile\u001b[0m \u001b[0;32melse\u001b[0m \u001b[0;34m\"nonXla\"\u001b[0m\u001b[0;34m\u001b[0m\u001b[0;34m\u001b[0m\u001b[0m\n\u001b[1;32m    830\u001b[0m       \u001b[0mnew_tracing_count\u001b[0m \u001b[0;34m=\u001b[0m \u001b[0mself\u001b[0m\u001b[0;34m.\u001b[0m\u001b[0mexperimental_get_tracing_count\u001b[0m\u001b[0;34m(\u001b[0m\u001b[0;34m)\u001b[0m\u001b[0;34m\u001b[0m\u001b[0;34m\u001b[0m\u001b[0m\n",
      "\u001b[0;32m~/.conda/envs/aoc/lib/python3.8/site-packages/tensorflow/python/eager/def_function.py\u001b[0m in \u001b[0;36m_call\u001b[0;34m(self, *args, **kwds)\u001b[0m\n\u001b[1;32m    869\u001b[0m       \u001b[0;31m# This is the first call of __call__, so we have to initialize.\u001b[0m\u001b[0;34m\u001b[0m\u001b[0;34m\u001b[0m\u001b[0;34m\u001b[0m\u001b[0m\n\u001b[1;32m    870\u001b[0m       \u001b[0minitializers\u001b[0m \u001b[0;34m=\u001b[0m \u001b[0;34m[\u001b[0m\u001b[0;34m]\u001b[0m\u001b[0;34m\u001b[0m\u001b[0;34m\u001b[0m\u001b[0m\n\u001b[0;32m--> 871\u001b[0;31m       \u001b[0mself\u001b[0m\u001b[0;34m.\u001b[0m\u001b[0m_initialize\u001b[0m\u001b[0;34m(\u001b[0m\u001b[0margs\u001b[0m\u001b[0;34m,\u001b[0m \u001b[0mkwds\u001b[0m\u001b[0;34m,\u001b[0m \u001b[0madd_initializers_to\u001b[0m\u001b[0;34m=\u001b[0m\u001b[0minitializers\u001b[0m\u001b[0;34m)\u001b[0m\u001b[0;34m\u001b[0m\u001b[0;34m\u001b[0m\u001b[0m\n\u001b[0m\u001b[1;32m    872\u001b[0m     \u001b[0;32mfinally\u001b[0m\u001b[0;34m:\u001b[0m\u001b[0;34m\u001b[0m\u001b[0;34m\u001b[0m\u001b[0m\n\u001b[1;32m    873\u001b[0m       \u001b[0;31m# At this point we know that the initialization is complete (or less\u001b[0m\u001b[0;34m\u001b[0m\u001b[0;34m\u001b[0m\u001b[0;34m\u001b[0m\u001b[0m\n",
      "\u001b[0;32m~/.conda/envs/aoc/lib/python3.8/site-packages/tensorflow/python/eager/def_function.py\u001b[0m in \u001b[0;36m_initialize\u001b[0;34m(self, args, kwds, add_initializers_to)\u001b[0m\n\u001b[1;32m    723\u001b[0m     \u001b[0mself\u001b[0m\u001b[0;34m.\u001b[0m\u001b[0m_graph_deleter\u001b[0m \u001b[0;34m=\u001b[0m \u001b[0mFunctionDeleter\u001b[0m\u001b[0;34m(\u001b[0m\u001b[0mself\u001b[0m\u001b[0;34m.\u001b[0m\u001b[0m_lifted_initializer_graph\u001b[0m\u001b[0;34m)\u001b[0m\u001b[0;34m\u001b[0m\u001b[0;34m\u001b[0m\u001b[0m\n\u001b[1;32m    724\u001b[0m     self._concrete_stateful_fn = (\n\u001b[0;32m--> 725\u001b[0;31m         self._stateful_fn._get_concrete_function_internal_garbage_collected(  # pylint: disable=protected-access\n\u001b[0m\u001b[1;32m    726\u001b[0m             *args, **kwds))\n\u001b[1;32m    727\u001b[0m \u001b[0;34m\u001b[0m\u001b[0m\n",
      "\u001b[0;32m~/.conda/envs/aoc/lib/python3.8/site-packages/tensorflow/python/eager/function.py\u001b[0m in \u001b[0;36m_get_concrete_function_internal_garbage_collected\u001b[0;34m(self, *args, **kwargs)\u001b[0m\n\u001b[1;32m   2967\u001b[0m       \u001b[0margs\u001b[0m\u001b[0;34m,\u001b[0m \u001b[0mkwargs\u001b[0m \u001b[0;34m=\u001b[0m \u001b[0;32mNone\u001b[0m\u001b[0;34m,\u001b[0m \u001b[0;32mNone\u001b[0m\u001b[0;34m\u001b[0m\u001b[0;34m\u001b[0m\u001b[0m\n\u001b[1;32m   2968\u001b[0m     \u001b[0;32mwith\u001b[0m \u001b[0mself\u001b[0m\u001b[0;34m.\u001b[0m\u001b[0m_lock\u001b[0m\u001b[0;34m:\u001b[0m\u001b[0;34m\u001b[0m\u001b[0;34m\u001b[0m\u001b[0m\n\u001b[0;32m-> 2969\u001b[0;31m       \u001b[0mgraph_function\u001b[0m\u001b[0;34m,\u001b[0m \u001b[0m_\u001b[0m \u001b[0;34m=\u001b[0m \u001b[0mself\u001b[0m\u001b[0;34m.\u001b[0m\u001b[0m_maybe_define_function\u001b[0m\u001b[0;34m(\u001b[0m\u001b[0margs\u001b[0m\u001b[0;34m,\u001b[0m \u001b[0mkwargs\u001b[0m\u001b[0;34m)\u001b[0m\u001b[0;34m\u001b[0m\u001b[0;34m\u001b[0m\u001b[0m\n\u001b[0m\u001b[1;32m   2970\u001b[0m     \u001b[0;32mreturn\u001b[0m \u001b[0mgraph_function\u001b[0m\u001b[0;34m\u001b[0m\u001b[0;34m\u001b[0m\u001b[0m\n\u001b[1;32m   2971\u001b[0m \u001b[0;34m\u001b[0m\u001b[0m\n",
      "\u001b[0;32m~/.conda/envs/aoc/lib/python3.8/site-packages/tensorflow/python/eager/function.py\u001b[0m in \u001b[0;36m_maybe_define_function\u001b[0;34m(self, args, kwargs)\u001b[0m\n\u001b[1;32m   3359\u001b[0m \u001b[0;34m\u001b[0m\u001b[0m\n\u001b[1;32m   3360\u001b[0m           \u001b[0mself\u001b[0m\u001b[0;34m.\u001b[0m\u001b[0m_function_cache\u001b[0m\u001b[0;34m.\u001b[0m\u001b[0mmissed\u001b[0m\u001b[0;34m.\u001b[0m\u001b[0madd\u001b[0m\u001b[0;34m(\u001b[0m\u001b[0mcall_context_key\u001b[0m\u001b[0;34m)\u001b[0m\u001b[0;34m\u001b[0m\u001b[0;34m\u001b[0m\u001b[0m\n\u001b[0;32m-> 3361\u001b[0;31m           \u001b[0mgraph_function\u001b[0m \u001b[0;34m=\u001b[0m \u001b[0mself\u001b[0m\u001b[0;34m.\u001b[0m\u001b[0m_create_graph_function\u001b[0m\u001b[0;34m(\u001b[0m\u001b[0margs\u001b[0m\u001b[0;34m,\u001b[0m \u001b[0mkwargs\u001b[0m\u001b[0;34m)\u001b[0m\u001b[0;34m\u001b[0m\u001b[0;34m\u001b[0m\u001b[0m\n\u001b[0m\u001b[1;32m   3362\u001b[0m           \u001b[0mself\u001b[0m\u001b[0;34m.\u001b[0m\u001b[0m_function_cache\u001b[0m\u001b[0;34m.\u001b[0m\u001b[0mprimary\u001b[0m\u001b[0;34m[\u001b[0m\u001b[0mcache_key\u001b[0m\u001b[0;34m]\u001b[0m \u001b[0;34m=\u001b[0m \u001b[0mgraph_function\u001b[0m\u001b[0;34m\u001b[0m\u001b[0;34m\u001b[0m\u001b[0m\n\u001b[1;32m   3363\u001b[0m \u001b[0;34m\u001b[0m\u001b[0m\n",
      "\u001b[0;32m~/.conda/envs/aoc/lib/python3.8/site-packages/tensorflow/python/eager/function.py\u001b[0m in \u001b[0;36m_create_graph_function\u001b[0;34m(self, args, kwargs, override_flat_arg_shapes)\u001b[0m\n\u001b[1;32m   3194\u001b[0m     \u001b[0marg_names\u001b[0m \u001b[0;34m=\u001b[0m \u001b[0mbase_arg_names\u001b[0m \u001b[0;34m+\u001b[0m \u001b[0mmissing_arg_names\u001b[0m\u001b[0;34m\u001b[0m\u001b[0;34m\u001b[0m\u001b[0m\n\u001b[1;32m   3195\u001b[0m     graph_function = ConcreteFunction(\n\u001b[0;32m-> 3196\u001b[0;31m         func_graph_module.func_graph_from_py_func(\n\u001b[0m\u001b[1;32m   3197\u001b[0m             \u001b[0mself\u001b[0m\u001b[0;34m.\u001b[0m\u001b[0m_name\u001b[0m\u001b[0;34m,\u001b[0m\u001b[0;34m\u001b[0m\u001b[0;34m\u001b[0m\u001b[0m\n\u001b[1;32m   3198\u001b[0m             \u001b[0mself\u001b[0m\u001b[0;34m.\u001b[0m\u001b[0m_python_function\u001b[0m\u001b[0;34m,\u001b[0m\u001b[0;34m\u001b[0m\u001b[0;34m\u001b[0m\u001b[0m\n",
      "\u001b[0;32m~/.conda/envs/aoc/lib/python3.8/site-packages/tensorflow/python/framework/func_graph.py\u001b[0m in \u001b[0;36mfunc_graph_from_py_func\u001b[0;34m(name, python_func, args, kwargs, signature, func_graph, autograph, autograph_options, add_control_dependencies, arg_names, op_return_value, collections, capture_by_value, override_flat_arg_shapes)\u001b[0m\n\u001b[1;32m    988\u001b[0m         \u001b[0m_\u001b[0m\u001b[0;34m,\u001b[0m \u001b[0moriginal_func\u001b[0m \u001b[0;34m=\u001b[0m \u001b[0mtf_decorator\u001b[0m\u001b[0;34m.\u001b[0m\u001b[0munwrap\u001b[0m\u001b[0;34m(\u001b[0m\u001b[0mpython_func\u001b[0m\u001b[0;34m)\u001b[0m\u001b[0;34m\u001b[0m\u001b[0;34m\u001b[0m\u001b[0m\n\u001b[1;32m    989\u001b[0m \u001b[0;34m\u001b[0m\u001b[0m\n\u001b[0;32m--> 990\u001b[0;31m       \u001b[0mfunc_outputs\u001b[0m \u001b[0;34m=\u001b[0m \u001b[0mpython_func\u001b[0m\u001b[0;34m(\u001b[0m\u001b[0;34m*\u001b[0m\u001b[0mfunc_args\u001b[0m\u001b[0;34m,\u001b[0m \u001b[0;34m**\u001b[0m\u001b[0mfunc_kwargs\u001b[0m\u001b[0;34m)\u001b[0m\u001b[0;34m\u001b[0m\u001b[0;34m\u001b[0m\u001b[0m\n\u001b[0m\u001b[1;32m    991\u001b[0m \u001b[0;34m\u001b[0m\u001b[0m\n\u001b[1;32m    992\u001b[0m       \u001b[0;31m# invariant: `func_outputs` contains only Tensors, CompositeTensors,\u001b[0m\u001b[0;34m\u001b[0m\u001b[0;34m\u001b[0m\u001b[0;34m\u001b[0m\u001b[0m\n",
      "\u001b[0;32m~/.conda/envs/aoc/lib/python3.8/site-packages/tensorflow/python/eager/def_function.py\u001b[0m in \u001b[0;36mwrapped_fn\u001b[0;34m(*args, **kwds)\u001b[0m\n\u001b[1;32m    632\u001b[0m             \u001b[0mxla_context\u001b[0m\u001b[0;34m.\u001b[0m\u001b[0mExit\u001b[0m\u001b[0;34m(\u001b[0m\u001b[0;34m)\u001b[0m\u001b[0;34m\u001b[0m\u001b[0;34m\u001b[0m\u001b[0m\n\u001b[1;32m    633\u001b[0m         \u001b[0;32melse\u001b[0m\u001b[0;34m:\u001b[0m\u001b[0;34m\u001b[0m\u001b[0;34m\u001b[0m\u001b[0m\n\u001b[0;32m--> 634\u001b[0;31m           \u001b[0mout\u001b[0m \u001b[0;34m=\u001b[0m \u001b[0mweak_wrapped_fn\u001b[0m\u001b[0;34m(\u001b[0m\u001b[0;34m)\u001b[0m\u001b[0;34m.\u001b[0m\u001b[0m__wrapped__\u001b[0m\u001b[0;34m(\u001b[0m\u001b[0;34m*\u001b[0m\u001b[0margs\u001b[0m\u001b[0;34m,\u001b[0m \u001b[0;34m**\u001b[0m\u001b[0mkwds\u001b[0m\u001b[0;34m)\u001b[0m\u001b[0;34m\u001b[0m\u001b[0;34m\u001b[0m\u001b[0m\n\u001b[0m\u001b[1;32m    635\u001b[0m         \u001b[0;32mreturn\u001b[0m \u001b[0mout\u001b[0m\u001b[0;34m\u001b[0m\u001b[0;34m\u001b[0m\u001b[0m\n\u001b[1;32m    636\u001b[0m \u001b[0;34m\u001b[0m\u001b[0m\n",
      "\u001b[0;32m~/.conda/envs/aoc/lib/python3.8/site-packages/tensorflow/python/framework/func_graph.py\u001b[0m in \u001b[0;36mwrapper\u001b[0;34m(*args, **kwargs)\u001b[0m\n\u001b[1;32m    975\u001b[0m           \u001b[0;32mexcept\u001b[0m \u001b[0mException\u001b[0m \u001b[0;32mas\u001b[0m \u001b[0me\u001b[0m\u001b[0;34m:\u001b[0m  \u001b[0;31m# pylint:disable=broad-except\u001b[0m\u001b[0;34m\u001b[0m\u001b[0;34m\u001b[0m\u001b[0m\n\u001b[1;32m    976\u001b[0m             \u001b[0;32mif\u001b[0m \u001b[0mhasattr\u001b[0m\u001b[0;34m(\u001b[0m\u001b[0me\u001b[0m\u001b[0;34m,\u001b[0m \u001b[0;34m\"ag_error_metadata\"\u001b[0m\u001b[0;34m)\u001b[0m\u001b[0;34m:\u001b[0m\u001b[0;34m\u001b[0m\u001b[0;34m\u001b[0m\u001b[0m\n\u001b[0;32m--> 977\u001b[0;31m               \u001b[0;32mraise\u001b[0m \u001b[0me\u001b[0m\u001b[0;34m.\u001b[0m\u001b[0mag_error_metadata\u001b[0m\u001b[0;34m.\u001b[0m\u001b[0mto_exception\u001b[0m\u001b[0;34m(\u001b[0m\u001b[0me\u001b[0m\u001b[0;34m)\u001b[0m\u001b[0;34m\u001b[0m\u001b[0;34m\u001b[0m\u001b[0m\n\u001b[0m\u001b[1;32m    978\u001b[0m             \u001b[0;32melse\u001b[0m\u001b[0;34m:\u001b[0m\u001b[0;34m\u001b[0m\u001b[0;34m\u001b[0m\u001b[0m\n\u001b[1;32m    979\u001b[0m               \u001b[0;32mraise\u001b[0m\u001b[0;34m\u001b[0m\u001b[0;34m\u001b[0m\u001b[0m\n",
      "\u001b[0;31mTypeError\u001b[0m: in user code:\n\n    <ipython-input-368-210f64fd032c>:143 solve  *\n        final_image = tf.concat(tf.unstack(final_image, num=side_length), 1)\n    /home/don/.conda/envs/aoc/lib/python3.8/site-packages/tensorflow/python/util/dispatch.py:201 wrapper  **\n        return target(*args, **kwargs)\n    /home/don/.conda/envs/aoc/lib/python3.8/site-packages/tensorflow/python/ops/array_ops.py:1582 unstack\n        return gen_array_ops.unpack(value, num=num, axis=axis, name=name)\n    /home/don/.conda/envs/aoc/lib/python3.8/site-packages/tensorflow/python/ops/gen_array_ops.py:12093 unpack\n        num = _execute.make_int(num, \"num\")\n    /home/don/.conda/envs/aoc/lib/python3.8/site-packages/tensorflow/python/eager/execute.py:173 make_int\n        raise TypeError(\"Expected int for argument '%s' not %s.\" %\n\n    TypeError: Expected int for argument 'num' not <tf.Tensor 'Cast_1:0' shape=() dtype=int32>.\n"
     ]
    }
   ],
   "source": [
    "def print_final_img(final_image):   \n",
    "    for i in range(final_image.shape[0]):\n",
    "        for k in range(final_image.shape[2]):\n",
    "            for j in range(final_image.shape[1]):\n",
    "                img = final_image[i,j]\n",
    "                for l in range(final_image.shape[3]):\n",
    "                    if img[k,l] == 1:\n",
    "                        print('#', end='')\n",
    "                    else:\n",
    "                        print('.', end='')\n",
    "                print(' ', end='')\n",
    "            print()\n",
    "        print()\n",
    "                   \n",
    "\n",
    "@tf.function\n",
    "def solve(s):\n",
    "    s = tf.strings.split(s, '\\n\\n')\n",
    "    s = tf.strings.split(s, '\\n')\n",
    "    s = s.to_tensor()\n",
    "    \n",
    "    tile_ids = s[:,0]\n",
    "    tile_ids = tf.strings.regex_replace(tile_ids, '[^0-9]', '')\n",
    "    tile_ids = tf.strings.to_number(tile_ids, out_type=tf.float64)\n",
    "    \n",
    "    tiles = s[:,1:]\n",
    "    tiles = tf.strings.bytes_split(tiles).to_tensor()\n",
    "    tiles = tf.where(tiles == '.', 0.0, 1.0)\n",
    "    tiles_shape = tf.shape(tiles)\n",
    "\n",
    "    top_rows = tiles[:,0]\n",
    "    bottom_rows = tiles[:,-1]\n",
    "    left_col = tiles[:,:,0]\n",
    "    right_col = tiles[:,:,-1]\n",
    "    \n",
    "    all_edges = tf.stack((top_rows, bottom_rows, left_col, right_col), axis=1)\n",
    "    rev_all_edges = all_edges[...,::-1]\n",
    "    \n",
    "    all_edges = tf.concat((all_edges, rev_all_edges), axis=1)\n",
    "    \n",
    "    ae_shape = tf.shape(all_edges)\n",
    "    \n",
    "    # Find the length of a side of the square\n",
    "    side_length = tf.cast(tf.sqrt(tf.cast(ae_shape[0], tf.float32)), tf.int32)\n",
    "\n",
    "    rnge = tf.range(ae_shape[0])\n",
    "    inner_rnge = tf.range(ae_shape[1])\n",
    "    res = tf.constant(1, tf.float64)\n",
    "    \n",
    "    lu_corner = tf.zeros_like(tiles[0])\n",
    "    remaining_tiles_mask = tf.fill((ae_shape[0],), True)\n",
    "    \n",
    "    # First we try to find the left upper tile (without rotation or flipping)\n",
    "    for i in rnge:\n",
    "        mask = (rnge == i)\n",
    "        cur_edges = all_edges[mask][0]\n",
    "        other_edges = all_edges[~mask]\n",
    "        n = tf.constant(0, tf.int64)\n",
    "        for j in inner_rnge:\n",
    "            n += tf.math.count_nonzero(tf.reduce_all((cur_edges[j] == other_edges), axis=-1))\n",
    "        \n",
    "        # 4 matches means 2 sides match (doubled because of symmetry)\n",
    "        if n == 4:\n",
    "            lu_corner = tiles[i]\n",
    "            \n",
    "            # Do we have a match on the top row?\n",
    "            match_top = tf.reduce_any(tf.reduce_all((cur_edges[0] == other_edges), axis=-1))\n",
    "            # Do we have a match on the left column?\n",
    "            match_left = tf.reduce_any(tf.reduce_all((cur_edges[2] == other_edges), axis=-1))\n",
    "            \n",
    "            if match_top:\n",
    "                lu_corner = lu_corner[::-1]\n",
    "            \n",
    "            if match_left:\n",
    "                lu_corner = lu_corner[:,::-1]\n",
    "\n",
    "            remaining_tiles_mask = tf.tensor_scatter_nd_update(remaining_tiles_mask, [[i]], [False])\n",
    "            break\n",
    "    \n",
    "    side_rnge = tf.range(side_length)\n",
    "    \n",
    "    # Final image will be a grid of tiles\n",
    "    final_image = tf.zeros(tf.concat(([side_length], [side_length], tiles_shape[1:]), 0))\n",
    "    final_image = tf.tensor_scatter_nd_update(final_image, [[0, 0]], [lu_corner])\n",
    "\n",
    "    for i in side_rnge:\n",
    "        for j in side_rnge:\n",
    "            if i == 0 and j == 0:\n",
    "                continue\n",
    "            edges = all_edges[remaining_tiles_mask]\n",
    "\n",
    "            if j > 0:\n",
    "                last_tile = final_image[i,j-1]\n",
    "                last_right_column = last_tile[:,-1]\n",
    "            else:\n",
    "                last_tile = final_image[i-1,j]\n",
    "                last_right_column = last_tile[-1]\n",
    "            \n",
    "            where = tf.where(tf.reduce_all(last_right_column == edges, axis=-1))\n",
    "            matching_tile_idx = where[0,0]                    \n",
    "            transformation_idx = where[0,1]\n",
    "            \n",
    "            tile = tiles[remaining_tiles_mask][matching_tile_idx]\n",
    "            \n",
    "            remaining_idx_to_update = tf.where(remaining_tiles_mask)[matching_tile_idx][0]\n",
    "            remaining_tiles_mask = tf.tensor_scatter_nd_update(remaining_tiles_mask, [[remaining_idx_to_update]], [False])\n",
    "\n",
    "            #print(transformation_idx)\n",
    "            # Match top row\n",
    "            if transformation_idx == 0:\n",
    "                tile = tf.image.rot90(tile[...,None], k=3)[...,0]\n",
    "                tile = tile[:,::-1]\n",
    "            # Match bottom row\n",
    "            elif transformation_idx == 1:\n",
    "                tile = tf.image.rot90(tile[...,None], k=3)[...,0]\n",
    "            # Match right col (we skip left col because then tile is already match)\n",
    "            elif transformation_idx == 3:\n",
    "                tile = tile[:,::-1]\n",
    "            # Top reversed\n",
    "            elif transformation_idx == 4:\n",
    "                tile = tf.image.rot90(tile[...,None], k=1)[...,0]\n",
    "            # Bottom reversed\n",
    "            elif transformation_idx == 5:\n",
    "                tile = tf.image.rot90(tile[...,None], k=3)[...,0]\n",
    "                tile = tile[::-1]\n",
    "            # Left reversed\n",
    "            elif transformation_idx == 6:\n",
    "                tile = tile[::-1]\n",
    "            # Right reversed\n",
    "            elif transformation_idx == 7:\n",
    "                tile = tile[::-1,::-1]\n",
    "            \n",
    "            if j == 0:\n",
    "                tile = tf.image.rot90(tile[...,None], k=1)[...,0]\n",
    "                tile = tile[::-1]\n",
    "\n",
    "            \n",
    "            final_image = tf.tensor_scatter_nd_update(final_image, [[i, j]], [tile])\n",
    "\n",
    "    # Remove borders from image\n",
    "    final_image = final_image[:,:,1:-1,1:-1]\n",
    "\n",
    "    final_image = tf.concat(tf.unstack(final_image, num=side_length), 1)\n",
    "    final_image = tf.concat(tf.unstack(final_image, num=side_length), 1)\n",
    "        \n",
    "    kernel = '                  # \\n'\\\n",
    "      +'#    ##    ##    ###\\n'\\\n",
    "      +' #  #  #  #  #  #   '\n",
    "    kernel = tf.where(tf.strings.bytes_split(tf.strings.split(kernel, '\\n')).to_tensor() == '#', 1.0, 0.0)\n",
    "    kernel = tf.concat((tf.zeros((3, 3)), kernel), 1)[...,None]\n",
    "    n_spaces_monster = tf.reduce_sum(kernel)\n",
    "    # Make upside down dragon as well\n",
    "    kernel = tf.stack((kernel, kernel[::-1]), -1)\n",
    "    \n",
    "    final_images = tf.stack([tf.image.rot90(final_image[...,None], k=i) for i in range(4)], 0)\n",
    "    convolution = tf.nn.conv2d(final_images, kernel, strides=[1, 1], padding=\"SAME\")\n",
    "    n_monsters = tf.math.count_nonzero(convolution == n_spaces_monster, dtype=tf.float32)\n",
    "    return tf.reduce_sum(final_image) - (n_monsters * n_spaces_monster)\n",
    "\n",
    "solve(tf.io.read_file('day20_test.txt'))"
   ]
  },
  {
   "cell_type": "code",
   "execution_count": 276,
   "metadata": {},
   "outputs": [],
   "source": [
    "kernel = '                  # \\n'\\\n",
    "  +'#    ##    ##    ###\\n'\\\n",
    "  +' #  #  #  #  #  #   '\n",
    "kernel = tf.where(tf.strings.bytes_split(tf.strings.split(s, '\\n')).to_tensor() == '#', 1.0, 0.0)\n"
   ]
  },
  {
   "cell_type": "code",
   "execution_count": 275,
   "metadata": {},
   "outputs": [
    {
     "name": "stdout",
     "output_type": "stream",
     "text": [
      "tf.Tensor(\n",
      "[[0. 0. 0. 0. 0. 0. 0. 0. 0. 0. 0. 0. 0. 0. 0. 0. 0. 0. 0. 0. 0. 1. 0.]\n",
      " [0. 0. 0. 1. 0. 0. 0. 0. 1. 1. 0. 0. 0. 0. 1. 1. 0. 0. 0. 0. 1. 1. 1.]\n",
      " [0. 0. 0. 0. 1. 0. 0. 1. 0. 0. 1. 0. 0. 1. 0. 0. 1. 0. 0. 1. 0. 0. 0.]], shape=(3, 23), dtype=float32)\n"
     ]
    }
   ],
   "source": []
  },
  {
   "cell_type": "code",
   "execution_count": 268,
   "metadata": {},
   "outputs": [
    {
     "ename": "SyntaxError",
     "evalue": "invalid syntax (<ipython-input-268-a6e891a95489>, line 2)",
     "output_type": "error",
     "traceback": [
      "\u001b[0;36m  File \u001b[0;32m\"<ipython-input-268-a6e891a95489>\"\u001b[0;36m, line \u001b[0;32m2\u001b[0m\n\u001b[0;31m    [[0. 0. 0. 0. 0. 0. 0. 0. 0. 0. 0. 0. 0. 0. 0. 0. 0. 0. 1. 0.]\u001b[0m\n\u001b[0m         ^\u001b[0m\n\u001b[0;31mSyntaxError\u001b[0m\u001b[0;31m:\u001b[0m invalid syntax\n"
     ]
    }
   ],
   "source": [
    "tf.Tensor(\n",
    "[[0. 0. 0. 0. 0. 0. 0. 0. 0. 0. 0. 0. 0. 0. 0. 0. 0. 0. 1. 0.]\n",
    " [1. 0. 0. 0. 0. 1. 1. 0. 0. 0. 0. 1. 1. 0. 0. 0. 0. 1. 1. 1.]\n",
    " [0. 1. 0. 0. 1. 0. 0. 1. 0. 0. 1. 0. 0. 1. 0. 0. 1. 0. 0. 0.]], shape=(3, 20), dtype=float32)"
   ]
  },
  {
   "cell_type": "code",
   "execution_count": null,
   "metadata": {},
   "outputs": [],
   "source": []
  }
 ],
 "metadata": {
  "kernelspec": {
   "display_name": "Python 3",
   "language": "python",
   "name": "python3"
  },
  "language_info": {
   "codemirror_mode": {
    "name": "ipython",
    "version": 3
   },
   "file_extension": ".py",
   "mimetype": "text/x-python",
   "name": "python",
   "nbconvert_exporter": "python",
   "pygments_lexer": "ipython3",
   "version": "3.8.0"
  }
 },
 "nbformat": 4,
 "nbformat_minor": 4
}
