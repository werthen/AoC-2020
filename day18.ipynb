{
 "cells": [
  {
   "cell_type": "code",
   "execution_count": 1,
   "metadata": {},
   "outputs": [],
   "source": [
    "import tensorflow as tf\n",
    "# Fixes bad convolution\n",
    "gpus = tf.config.experimental.list_physical_devices('GPU')\n",
    "for gpu in gpus:\n",
    "    tf.config.experimental.set_memory_growth(gpu, True)"
   ]
  },
  {
   "cell_type": "code",
   "execution_count": 2,
   "metadata": {},
   "outputs": [
    {
     "name": "stdout",
     "output_type": "stream",
     "text": [
      "299 ms ± 9.87 ms per loop (mean ± std. dev. of 7 runs, 1 loop each)\n"
     ]
    }
   ],
   "source": [
    "@tf.function\n",
    "def solve_line(s):\n",
    "    stack = tf.TensorArray(tf.float64, size=0, dynamic_size=True, clear_after_read=False)\n",
    "    stack = stack.write(0, 0)\n",
    "    op_stack = tf.TensorArray(tf.string, size=0, dynamic_size=True, clear_after_read=False)\n",
    "    op_stack = op_stack.write(0, '+')\n",
    "    stack_ptr = 0\n",
    "    \n",
    "    def do_op(stack, stack_ptr, op_stack, e):\n",
    "        cur_stack_val = stack.read(stack_ptr)\n",
    "        last_op = op_stack.read(stack_ptr)\n",
    "        if last_op == '+':\n",
    "            stack = stack.write(stack_ptr, cur_stack_val + e)\n",
    "        elif last_op == '*':\n",
    "            stack = stack.write(stack_ptr, cur_stack_val * e)\n",
    "        return stack\n",
    "    \n",
    "    for e in s:\n",
    "        if e == '+':\n",
    "            op_stack = op_stack.write(stack_ptr, '+')\n",
    "        elif e == '*':\n",
    "            op_stack = op_stack.write(stack_ptr, '*')\n",
    "        elif e == '(':\n",
    "            stack_ptr += 1\n",
    "            stack = stack.write(stack_ptr, 0)\n",
    "            op_stack = op_stack.write(stack_ptr, '+')\n",
    "        elif e == ')':\n",
    "            e = stack.read(stack_ptr)\n",
    "            stack_ptr -= 1\n",
    "            stack = do_op(stack, stack_ptr, op_stack, e)\n",
    "        elif e == ' ':\n",
    "            pass\n",
    "        else:\n",
    "            e = tf.strings.to_number(e, out_type=tf.float64)\n",
    "            stack = do_op(stack, stack_ptr, op_stack, e)\n",
    "\n",
    "    return stack.read(0)\n",
    "\n",
    "@tf.function\n",
    "def solve(s):\n",
    "    s = tf.strings.split(s, '\\n')\n",
    "    s = tf.strings.bytes_split(s)\n",
    "\n",
    "    return tf.reduce_sum(tf.map_fn(solve_line, s, fn_output_signature=tf.TensorSpec(shape=(), dtype=tf.float64)))\n",
    "\n",
    "    \n",
    "%timeit solve(tf.io.read_file('day18.txt'))"
   ]
  },
  {
   "cell_type": "code",
   "execution_count": 3,
   "metadata": {},
   "outputs": [
    {
     "name": "stdout",
     "output_type": "stream",
     "text": [
      "tf.Tensor(b'1 + 2 * 3 + 4 * 5 + 6', shape=(), dtype=string)\n",
      "tf.Tensor([], shape=(0,), dtype=float64)\n",
      "tf.Tensor(b'1', shape=(), dtype=string)\n",
      "adding + stack, ptr 1\n",
      "tf.Tensor([0. 1.], shape=(2,), dtype=float64)\n",
      "tf.Tensor(b'+', shape=(), dtype=string)\n",
      "tf.Tensor([0. 1.], shape=(2,), dtype=float64)\n",
      "tf.Tensor(b'2', shape=(), dtype=string)\n",
      "decreasing stack ptr 1\n",
      "tf.Tensor([0. 0.], shape=(2,), dtype=float64)\n",
      "tf.Tensor(b'*', shape=(), dtype=string)\n",
      "tf.Tensor([0. 0.], shape=(2,), dtype=float64)\n",
      "tf.Tensor(b'3', shape=(), dtype=string)\n",
      "adding + stack, ptr 1\n",
      "tf.Tensor([0. 3.], shape=(2,), dtype=float64)\n",
      "tf.Tensor(b'+', shape=(), dtype=string)\n",
      "tf.Tensor([0. 3.], shape=(2,), dtype=float64)\n",
      "tf.Tensor(b'4', shape=(), dtype=string)\n",
      "decreasing stack ptr 1\n",
      "tf.Tensor([0. 0.], shape=(2,), dtype=float64)\n",
      "tf.Tensor(b'*', shape=(), dtype=string)\n",
      "tf.Tensor([0. 0.], shape=(2,), dtype=float64)\n",
      "tf.Tensor(b'5', shape=(), dtype=string)\n",
      "adding + stack, ptr 1\n",
      "tf.Tensor([0. 5.], shape=(2,), dtype=float64)\n",
      "tf.Tensor(b'+', shape=(), dtype=string)\n",
      "tf.Tensor([0. 5.], shape=(2,), dtype=float64)\n",
      "tf.Tensor(b'6', shape=(), dtype=string)\n"
     ]
    },
    {
     "data": {
      "text/plain": [
       "(<tf.Tensor: shape=(2,), dtype=float64, numpy=array([ 0., 11.])>,\n",
       " <tf.Tensor: shape=(2,), dtype=string, numpy=array([b'*', b'+'], dtype=object)>)"
      ]
     },
     "execution_count": 3,
     "metadata": {},
     "output_type": "execute_result"
    }
   ],
   "source": [
    "#@tf.function\n",
    "def solve_line(s):\n",
    "    stack = tf.TensorArray(tf.float64, size=0, dynamic_size=True, clear_after_read=False)\n",
    "    #stack = stack.write(0, 1)\n",
    "    op_stack = tf.TensorArray(tf.string, size=0, dynamic_size=True, clear_after_read=False)\n",
    "    #op_stack = op_stack.write(0, '*')\n",
    "    stack_ptr = 0\n",
    "    \n",
    "    def do_op(stack, stack_ptr, op_stack, e):\n",
    "        cur_stack_val = stack.read(stack_ptr)\n",
    "        last_op = op_stack.read(stack_ptr)\n",
    "        if last_op == '+':\n",
    "            stack = stack.write(stack_ptr, cur_stack_val + e)\n",
    "        elif last_op == '*':\n",
    "            stack = stack.write(stack_ptr, cur_stack_val * e)\n",
    "        return stack\n",
    "\n",
    "    s = s[s != ' ']\n",
    "    for i in tf.range(s.shape[0]):\n",
    "        e = s[i]\n",
    "        \n",
    "        if i == s.shape[0]-1:\n",
    "            lookahead = ' '\n",
    "        else:\n",
    "            lookahead = s[i+1]\n",
    "        if e != ' ':\n",
    "            print(stack.stack())\n",
    "            print(e)\n",
    "        if e == '+':\n",
    "            op_stack = op_stack.write(stack_ptr, '+')\n",
    "        elif e == '*':\n",
    "            op_stack = op_stack.write(stack_ptr, '*')\n",
    "        elif e == '(':\n",
    "            stack_ptr += 1\n",
    "            stack = stack.write(stack_ptr, 1)\n",
    "            op_stack = op_stack.write(stack_ptr, '*')\n",
    "        elif e == ')':\n",
    "            e = stack.read(stack_ptr)\n",
    "            stack_ptr -= 1\n",
    "            stack = do_op(stack, stack_ptr, op_stack, e)\n",
    "        elif e == ' ':\n",
    "            pass\n",
    "        else:\n",
    "            if op_stack.size() == 0:\n",
    "                op = ' '\n",
    "            else:\n",
    "                op = op_stack.read(stack_ptr)\n",
    "            if op != '+' and lookahead == '+':\n",
    "                stack_ptr += 1\n",
    "                stack = stack.write(stack_ptr, 0)\n",
    "                op_stack = op_stack.write(stack_ptr, '+')\n",
    "                print(f'adding + stack, ptr {stack_ptr}')\n",
    "\n",
    "            e = tf.strings.to_number(e, out_type=tf.float64)\n",
    "            stack = do_op(stack, stack_ptr, op_stack, e)\n",
    "\n",
    "            if op != '*' and lookahead == '*':\n",
    "                print(f'decreasing stack ptr {stack_ptr}')\n",
    "                e = stack.read(stack_ptr)\n",
    "                stack_ptr -= 1\n",
    "                stack = do_op(stack, stack_ptr, op_stack, e)\n",
    "                stack = stack.write(stack_ptr+1, 0)\n",
    "\n",
    "    return stack.stack(), op_stack.stack()\n",
    "\n",
    "#@tf.function\n",
    "def solve(s):\n",
    "    s = tf.strings.split(s, '\\n')\n",
    "    print(s[0])\n",
    "    s = tf.strings.bytes_split(s)\n",
    "    return solve_line(s[0])\n",
    "    return tf.reduce_sum(tf.map_fn(solve_line, s, fn_output_signature=tf.TensorSpec(shape=(), dtype=tf.float64)))\n",
    "\n",
    "    \n",
    "solve(tf.io.read_file('day18_test.txt'))"
   ]
  },
  {
   "cell_type": "code",
   "execution_count": 24,
   "metadata": {},
   "outputs": [
    {
     "data": {
      "text/plain": [
       "55"
      ]
     },
     "execution_count": 24,
     "metadata": {},
     "output_type": "execute_result"
    }
   ],
   "source": [
    "fib(10)"
   ]
  },
  {
   "cell_type": "code",
   "execution_count": 20,
   "metadata": {},
   "outputs": [
    {
     "name": "stdout",
     "output_type": "stream",
     "text": [
      "13.6 ms ± 457 µs per loop (mean ± std. dev. of 7 runs, 1 loop each)\n"
     ]
    },
    {
     "data": {
      "text/plain": [
       "<tf.Tensor: shape=(), dtype=float32, numpy=1504.0>"
      ]
     },
     "execution_count": 20,
     "metadata": {},
     "output_type": "execute_result"
    }
   ],
   "source": [
    "s = tf.io.read_file('day17.txt')\n",
    "\n",
    "@tf.function\n",
    "def solve2(s, n_cycles=6):\n",
    "    s = tf.strings.split(s, '\\n')\n",
    "    s = tf.strings.bytes_split(s, 'UTF-8')\n",
    "    s = s.to_tensor()\n",
    "    s = tf.where(s == '.', 0.0, 1.0)\n",
    "    s = s[None,None,...]\n",
    "    s = tf.pad(s, 4*[2*[n_cycles]])\n",
    "    s = s[None,...,None]\n",
    "    \n",
    "    n = 2*n_cycles + 1\n",
    "\n",
    "    kernel = tf.ones(4*[3])\n",
    "    kernel = tf.tensor_scatter_nd_update(kernel, [4*[1]], [0])[...,None,None]\n",
    "    \n",
    "    @tf.function(experimental_compile=True)\n",
    "    def _solve(s):\n",
    "        for i in range(n_cycles):\n",
    "            convs = []\n",
    "            # Thanks to https://github.com/funkey/conv4d/blob/master/conv4d.py#L27\n",
    "            for j in range(3):\n",
    "                convolution = tf.stack([\n",
    "                    tf.nn.conv3d(s[:,i], kernel[j], strides=5*[1], padding='SAME')\n",
    "                    for i in range(n)], axis=1)\n",
    "                convs.append(convolution)\n",
    "            \n",
    "            conv0 = tf.concat((tf.zeros_like(convs[0][:,:1]), convs[0][:,:-1]), 1)\n",
    "            conv1 = convs[1]\n",
    "            conv2 = tf.concat((convs[2][:,1:], tf.zeros_like(convs[0][:,:1])), 1)\n",
    "            \n",
    "            convolution = conv0 + conv1 + conv2\n",
    "\n",
    "            cells_to_deactivate = s * tf.cast((convolution != 2) & (convolution != 3), tf.float32)\n",
    "            cells_to_activate = (1-s) * tf.cast(convolution == 3, tf.float32)\n",
    "\n",
    "            s = s - cells_to_deactivate + cells_to_activate\n",
    "    \n",
    "        return tf.reduce_sum(s)\n",
    "\n",
    "    return _solve(s)\n",
    "    \n",
    "%timeit solve2(s, n_cycles=6)\n",
    "solve2(s, n_cycles=6)"
   ]
  },
  {
   "cell_type": "code",
   "execution_count": 5,
   "metadata": {},
   "outputs": [],
   "source": [
    "import datetime\n",
    "# Set up logging.\n",
    "stamp = datetime.datetime.now().strftime(\"%Y%m%d-%H%M%S\")\n",
    "logdir = 'logs/day17/%s' % stamp\n",
    "\n",
    "# Bracket the function call with\n",
    "# tf.summary.trace_on() and tf.summary.trace_export().\n",
    "tf.profiler.experimental.start(logdir)\n",
    "solve2(s, n_cycles=6)\n",
    "tf.profiler.experimental.stop()"
   ]
  },
  {
   "cell_type": "code",
   "execution_count": 19,
   "metadata": {},
   "outputs": [
    {
     "ename": "ProfilerNotRunningError",
     "evalue": "Cannot stop profiling. No profiler is running.",
     "output_type": "error",
     "traceback": [
      "\u001b[0;31m---------------------------------------------------------------------------\u001b[0m",
      "\u001b[0;31mProfilerNotRunningError\u001b[0m                   Traceback (most recent call last)",
      "\u001b[0;32m<ipython-input-19-ec9aa66ecd66>\u001b[0m in \u001b[0;36m<module>\u001b[0;34m\u001b[0m\n\u001b[1;32m     10\u001b[0m \u001b[0msolve2\u001b[0m\u001b[0;34m(\u001b[0m\u001b[0ms\u001b[0m\u001b[0;34m,\u001b[0m \u001b[0mn_cycles\u001b[0m\u001b[0;34m=\u001b[0m\u001b[0;36m6\u001b[0m\u001b[0;34m)\u001b[0m\u001b[0;34m\u001b[0m\u001b[0;34m\u001b[0m\u001b[0m\n\u001b[1;32m     11\u001b[0m \u001b[0;32mwith\u001b[0m \u001b[0mwriter\u001b[0m\u001b[0;34m.\u001b[0m\u001b[0mas_default\u001b[0m\u001b[0;34m(\u001b[0m\u001b[0;34m)\u001b[0m\u001b[0;34m:\u001b[0m\u001b[0;34m\u001b[0m\u001b[0;34m\u001b[0m\u001b[0m\n\u001b[0;32m---> 12\u001b[0;31m     tf.summary.trace_export(\n\u001b[0m\u001b[1;32m     13\u001b[0m       \u001b[0mname\u001b[0m\u001b[0;34m=\u001b[0m\u001b[0;34m\"conway_trace\"\u001b[0m\u001b[0;34m,\u001b[0m\u001b[0;34m\u001b[0m\u001b[0;34m\u001b[0m\u001b[0m\n\u001b[1;32m     14\u001b[0m       \u001b[0mstep\u001b[0m\u001b[0;34m=\u001b[0m\u001b[0;36m0\u001b[0m\u001b[0;34m,\u001b[0m\u001b[0;34m\u001b[0m\u001b[0;34m\u001b[0m\u001b[0m\n",
      "\u001b[0;32m~/.conda/envs/aoc/lib/python3.8/site-packages/tensorflow/python/ops/summary_ops_v2.py\u001b[0m in \u001b[0;36mtrace_export\u001b[0;34m(name, step, profiler_outdir)\u001b[0m\n\u001b[1;32m   1353\u001b[0m     \u001b[0m_profiler\u001b[0m\u001b[0;34m.\u001b[0m\u001b[0msave\u001b[0m\u001b[0;34m(\u001b[0m\u001b[0mprofiler_outdir\u001b[0m\u001b[0;34m,\u001b[0m \u001b[0m_profiler\u001b[0m\u001b[0;34m.\u001b[0m\u001b[0mstop\u001b[0m\u001b[0;34m(\u001b[0m\u001b[0;34m)\u001b[0m\u001b[0;34m)\u001b[0m\u001b[0;34m\u001b[0m\u001b[0;34m\u001b[0m\u001b[0m\n\u001b[1;32m   1354\u001b[0m \u001b[0;34m\u001b[0m\u001b[0m\n\u001b[0;32m-> 1355\u001b[0;31m   \u001b[0mtrace_off\u001b[0m\u001b[0;34m(\u001b[0m\u001b[0;34m)\u001b[0m\u001b[0;34m\u001b[0m\u001b[0;34m\u001b[0m\u001b[0m\n\u001b[0m\u001b[1;32m   1356\u001b[0m \u001b[0;34m\u001b[0m\u001b[0m\n\u001b[1;32m   1357\u001b[0m \u001b[0;34m\u001b[0m\u001b[0m\n",
      "\u001b[0;32m~/.conda/envs/aoc/lib/python3.8/site-packages/tensorflow/python/ops/summary_ops_v2.py\u001b[0m in \u001b[0;36mtrace_off\u001b[0;34m()\u001b[0m\n\u001b[1;32m   1371\u001b[0m \u001b[0;34m\u001b[0m\u001b[0m\n\u001b[1;32m   1372\u001b[0m   \u001b[0;32mif\u001b[0m \u001b[0mprofiler\u001b[0m\u001b[0;34m:\u001b[0m\u001b[0;34m\u001b[0m\u001b[0;34m\u001b[0m\u001b[0m\n\u001b[0;32m-> 1373\u001b[0;31m     \u001b[0m_profiler\u001b[0m\u001b[0;34m.\u001b[0m\u001b[0mstop\u001b[0m\u001b[0;34m(\u001b[0m\u001b[0;34m)\u001b[0m\u001b[0;34m\u001b[0m\u001b[0;34m\u001b[0m\u001b[0m\n\u001b[0m",
      "\u001b[0;32m~/.conda/envs/aoc/lib/python3.8/site-packages/tensorflow/python/util/deprecation.py\u001b[0m in \u001b[0;36mnew_func\u001b[0;34m(*args, **kwargs)\u001b[0m\n\u001b[1;32m    338\u001b[0m               \u001b[0;34m'in a future version'\u001b[0m \u001b[0;32mif\u001b[0m \u001b[0mdate\u001b[0m \u001b[0;32mis\u001b[0m \u001b[0;32mNone\u001b[0m \u001b[0;32melse\u001b[0m \u001b[0;34m(\u001b[0m\u001b[0;34m'after %s'\u001b[0m \u001b[0;34m%\u001b[0m \u001b[0mdate\u001b[0m\u001b[0;34m)\u001b[0m\u001b[0;34m,\u001b[0m\u001b[0;34m\u001b[0m\u001b[0;34m\u001b[0m\u001b[0m\n\u001b[1;32m    339\u001b[0m               instructions)\n\u001b[0;32m--> 340\u001b[0;31m       \u001b[0;32mreturn\u001b[0m \u001b[0mfunc\u001b[0m\u001b[0;34m(\u001b[0m\u001b[0;34m*\u001b[0m\u001b[0margs\u001b[0m\u001b[0;34m,\u001b[0m \u001b[0;34m**\u001b[0m\u001b[0mkwargs\u001b[0m\u001b[0;34m)\u001b[0m\u001b[0;34m\u001b[0m\u001b[0;34m\u001b[0m\u001b[0m\n\u001b[0m\u001b[1;32m    341\u001b[0m \u001b[0;34m\u001b[0m\u001b[0m\n\u001b[1;32m    342\u001b[0m     \u001b[0mdoc_controls\u001b[0m\u001b[0;34m.\u001b[0m\u001b[0mset_deprecated\u001b[0m\u001b[0;34m(\u001b[0m\u001b[0mnew_func\u001b[0m\u001b[0;34m)\u001b[0m\u001b[0;34m\u001b[0m\u001b[0;34m\u001b[0m\u001b[0m\n",
      "\u001b[0;32m~/.conda/envs/aoc/lib/python3.8/site-packages/tensorflow/python/eager/profiler.py\u001b[0m in \u001b[0;36mstop\u001b[0;34m()\u001b[0m\n\u001b[1;32m    102\u001b[0m   \u001b[0;32mwith\u001b[0m \u001b[0m_profiler_lock\u001b[0m\u001b[0;34m:\u001b[0m\u001b[0;34m\u001b[0m\u001b[0;34m\u001b[0m\u001b[0m\n\u001b[1;32m    103\u001b[0m     \u001b[0;32mif\u001b[0m \u001b[0m_profiler\u001b[0m \u001b[0;32mis\u001b[0m \u001b[0;32mNone\u001b[0m\u001b[0;34m:\u001b[0m\u001b[0;34m\u001b[0m\u001b[0;34m\u001b[0m\u001b[0m\n\u001b[0;32m--> 104\u001b[0;31m       raise ProfilerNotRunningError(\n\u001b[0m\u001b[1;32m    105\u001b[0m           'Cannot stop profiling. No profiler is running.')\n\u001b[1;32m    106\u001b[0m     \u001b[0;32mif\u001b[0m \u001b[0mcontext\u001b[0m\u001b[0;34m.\u001b[0m\u001b[0mdefault_execution_mode\u001b[0m \u001b[0;34m==\u001b[0m \u001b[0mcontext\u001b[0m\u001b[0;34m.\u001b[0m\u001b[0mEAGER_MODE\u001b[0m\u001b[0;34m:\u001b[0m\u001b[0;34m\u001b[0m\u001b[0;34m\u001b[0m\u001b[0m\n",
      "\u001b[0;31mProfilerNotRunningError\u001b[0m: Cannot stop profiling. No profiler is running."
     ]
    }
   ],
   "source": [
    "# Set up logging.\n",
    "stamp = datetime.datetime.now().strftime(\"%Y%m%d-%H%M%S\")\n",
    "logdir = 'logs/day17_graph/%s' % stamp\n",
    "writer = tf.summary.create_file_writer(logdir)\n",
    "\n",
    "# Bracket the function call with\n",
    "# tf.summary.trace_on() and tf.summary.trace_export().\n",
    "tf.summary.trace_on(graph=True, profiler=True)\n",
    "# Call only one tf.function when tracing.\n",
    "solve2(s, n_cycles=6)\n",
    "with writer.as_default():\n",
    "    tf.summary.trace_export(\n",
    "      name=\"conway_trace\",\n",
    "      step=0,\n",
    "      profiler_outdir=logdir)"
   ]
  },
  {
   "cell_type": "code",
   "execution_count": null,
   "metadata": {},
   "outputs": [],
   "source": []
  }
 ],
 "metadata": {
  "kernelspec": {
   "display_name": "Python 3",
   "language": "python",
   "name": "python3"
  },
  "language_info": {
   "codemirror_mode": {
    "name": "ipython",
    "version": 3
   },
   "file_extension": ".py",
   "mimetype": "text/x-python",
   "name": "python",
   "nbconvert_exporter": "python",
   "pygments_lexer": "ipython3",
   "version": "3.8.0"
  }
 },
 "nbformat": 4,
 "nbformat_minor": 4
}
