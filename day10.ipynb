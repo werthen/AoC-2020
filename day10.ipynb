{
 "cells": [
  {
   "cell_type": "code",
   "execution_count": 1,
   "metadata": {},
   "outputs": [],
   "source": [
    "import tensorflow as tf"
   ]
  },
  {
   "cell_type": "code",
   "execution_count": 2,
   "metadata": {},
   "outputs": [
    {
     "name": "stdout",
     "output_type": "stream",
     "text": [
      "1e+03 µs ± 5.7 µs per loop (mean ± std. dev. of 7 runs, 1000 loops each)\n"
     ]
    }
   ],
   "source": [
    "s = tf.io.read_file('day10.txt')\n",
    "\n",
    "@tf.function()\n",
    "def solve(s):\n",
    "    s = tf.strings.split(s, '\\n')\n",
    "    joltages = tf.strings.to_number(s, tf.int32)\n",
    "\n",
    "    joltages = tf.concat(\n",
    "        ([0], tf.sort(joltages, direction='DESCENDING')),\n",
    "        axis=0\n",
    "    )\n",
    "    joltages = tf.concat(\n",
    "        (joltages, [joltages[-1]+3]),\n",
    "        axis=0\n",
    "    )\n",
    "    joltage_diffs = joltages[:-1] - joltages[1:]\n",
    "\n",
    "    ones = tf.where(joltage_diffs == 1)\n",
    "    threes = tf.where(joltage_diffs == 3)\n",
    "    return tf.shape(ones)[0] * tf.shape(threes)[0]\n",
    "\n",
    "%timeit solve(s)"
   ]
  },
  {
   "cell_type": "code",
   "execution_count": 3,
   "metadata": {},
   "outputs": [
    {
     "data": {
      "text/plain": [
       "<tf.Tensor: shape=(), dtype=float64, numpy=74049191673856.0>"
      ]
     },
     "execution_count": 3,
     "metadata": {},
     "output_type": "execute_result"
    }
   ],
   "source": [
    "s = tf.io.read_file('day10.txt')\n",
    "\n",
    "@tf.function\n",
    "def solve(s):\n",
    "    s = tf.strings.split(s, '\\n')\n",
    "    joltages = tf.strings.to_number(s, tf.float64)\n",
    "\n",
    "    joltages = tf.concat(\n",
    "        (tf.sort(joltages, direction='DESCENDING'), [0]),\n",
    "        axis=0\n",
    "    )\n",
    "    joltages = tf.concat(\n",
    "        ([joltages[0]+3], joltages),\n",
    "        axis=0\n",
    "    )\n",
    "    \n",
    "    n = tf.shape(joltages, tf.int32)[0]\n",
    "    i = tf.constant(0, tf.int32)\n",
    "    \n",
    "    ta = tf.TensorArray(tf.int32, size=0, dynamic_size=True)\n",
    "    ta_i = 0\n",
    "    # We dont need the full matrix, lets make it as dense as possible\n",
    "    rnge = tf.range(n)\n",
    "    \n",
    "    while i < n:\n",
    "        joltage = joltages[i]\n",
    "        next_joltages = joltages[i+1:i+4]\n",
    "        next_joltage_idxs = rnge[i+1:i+4]\n",
    "        next_joltage_idxs = next_joltage_idxs[(joltage-next_joltages)<=3]\n",
    "        joltage_idx_repeated = tf.repeat(i, tf.shape(next_joltage_idxs)[0])\n",
    "        indices = tf.stack((joltage_idx_repeated, next_joltage_idxs), axis=1)\n",
    "        for j in tf.range(tf.shape(indices)[0]):\n",
    "            ta = ta.write(ta_i, indices[j])\n",
    "            ta_i += 1\n",
    "        i += 1\n",
    "        \n",
    "    indices = ta.stack()\n",
    "    \n",
    "    amat = tf.scatter_nd(indices, tf.ones(tf.shape(indices)[0], tf.float64), (n, n))\n",
    "\n",
    "    travel_vec = tf.one_hot(0, tf.cast(n, tf.int32), dtype=tf.float64)[None,:]\n",
    "    total = tf.constant(0, tf.float64)\n",
    "    i = 0\n",
    "    while tf.math.count_nonzero(travel_vec) > 0:\n",
    "        travel_vec @= amat\n",
    "        total += travel_vec[0,-1]\n",
    "        i += 1\n",
    "    return total\n",
    "\n",
    "solve(s)"
   ]
  },
  {
   "cell_type": "code",
   "execution_count": 4,
   "metadata": {},
   "outputs": [
    {
     "name": "stdout",
     "output_type": "stream",
     "text": [
      "52.6 ms ± 677 µs per loop (mean ± std. dev. of 7 runs, 10 loops each)\n"
     ]
    }
   ],
   "source": [
    "%timeit solve(s)"
   ]
  },
  {
   "cell_type": "code",
   "execution_count": null,
   "metadata": {},
   "outputs": [],
   "source": []
  }
 ],
 "metadata": {
  "kernelspec": {
   "display_name": "Python 3",
   "language": "python",
   "name": "python3"
  },
  "language_info": {
   "codemirror_mode": {
    "name": "ipython",
    "version": 3
   },
   "file_extension": ".py",
   "mimetype": "text/x-python",
   "name": "python",
   "nbconvert_exporter": "python",
   "pygments_lexer": "ipython3",
   "version": "3.8.0"
  }
 },
 "nbformat": 4,
 "nbformat_minor": 4
}
