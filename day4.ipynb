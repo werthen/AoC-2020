{
 "cells": [
  {
   "cell_type": "markdown",
   "metadata": {},
   "source": [
    "# --- Day 4: Passport Processing ---"
   ]
  },
  {
   "cell_type": "raw",
   "metadata": {},
   "source": [
    "With the toboggan login problems resolved, you set off toward the airport. While travel by toboggan might be easy, it's certainly not safe: there's very minimal steering and the area is covered in trees. You'll need to see which angles will take you near the fewest trees."
   ]
  },
  {
   "cell_type": "markdown",
   "metadata": {},
   "source": [
    "## Imports"
   ]
  },
  {
   "cell_type": "code",
   "execution_count": 26,
   "metadata": {},
   "outputs": [],
   "source": [
    "import tensorflow as tf"
   ]
  },
  {
   "cell_type": "markdown",
   "metadata": {},
   "source": [
    "## Part 1"
   ]
  },
  {
   "cell_type": "code",
   "execution_count": 126,
   "metadata": {},
   "outputs": [
    {
     "data": {
      "text/plain": [
       "<tf.Tensor: shape=(), dtype=int64, numpy=204>"
      ]
     },
     "execution_count": 126,
     "metadata": {},
     "output_type": "execute_result"
    }
   ],
   "source": [
    "@tf.function\n",
    "def solve(fname):\n",
    "    s = tf.io.read_file(fname)\n",
    "    s = tf.strings.split(s, \"\\n\\n\")\n",
    "    s = tf.map_fn(\n",
    "        lambda s: tf.strings.regex_replace(s, '\\n', ' '),\n",
    "        s\n",
    "    )\n",
    "    s = tf.strings.split(s, ' ')\n",
    "    s = tf.strings.split(s, ':')\n",
    "    \n",
    "    cid_included = tf.math.count_nonzero(s.to_tensor()[:,:,0] == \"cid\", axis=1)\n",
    "\n",
    "    # Screw CID    \n",
    "    passport_lens = tf.map_fn(\n",
    "        lambda s: s.bounding_shape()[0],\n",
    "        s,\n",
    "        fn_output_signature=tf.TensorSpec(shape=(), dtype=tf.int64)\n",
    "    )\n",
    "\n",
    "    return tf.math.count_nonzero(passport_lens-cid_included == 7)\n",
    "        \n",
    "\n",
    "solve('day4.txt')"
   ]
  },
  {
   "cell_type": "code",
   "execution_count": 127,
   "metadata": {},
   "outputs": [
    {
     "name": "stdout",
     "output_type": "stream",
     "text": [
      "768 ms ± 21.2 ms per loop (mean ± std. dev. of 7 runs, 1 loop each)\n"
     ]
    }
   ],
   "source": [
    "%%timeit\n",
    "solve('day4.txt')"
   ]
  },
  {
   "cell_type": "code",
   "execution_count": 15,
   "metadata": {},
   "outputs": [],
   "source": [
    "@tf.function(experimental_compile=True)\n",
    "def solve2(forest_part):\n",
    "    return tf.reduce_prod([\n",
    "        solve(forest_part, r=1, d=1),\n",
    "        solve(forest_part, r=3, d=1),\n",
    "        solve(forest_part, r=5, d=1),\n",
    "        solve(forest_part, r=7, d=1),\n",
    "        solve(forest_part, r=1, d=2),\n",
    "    ])"
   ]
  },
  {
   "cell_type": "code",
   "execution_count": 16,
   "metadata": {},
   "outputs": [
    {
     "name": "stdout",
     "output_type": "stream",
     "text": [
      "170 µs ± 45 µs per loop (mean ± std. dev. of 7 runs, 1 loop each)\n"
     ]
    }
   ],
   "source": [
    "%%timeit\n",
    "solve2(forest_part)"
   ]
  },
  {
   "cell_type": "code",
   "execution_count": 18,
   "metadata": {},
   "outputs": [],
   "source": [
    "import datetime"
   ]
  },
  {
   "cell_type": "code",
   "execution_count": 19,
   "metadata": {},
   "outputs": [],
   "source": [
    "# Set up logging.\n",
    "stamp = datetime.datetime.now().strftime(\"%Y%m%d-%H%M%S\")\n",
    "logdir = 'logs/func/%s' % stamp\n",
    "\n",
    "# Bracket the function call with\n",
    "# tf.summary.trace_on() and tf.summary.trace_export().\n",
    "tf.profiler.experimental.start(logdir)\n",
    "solve2(forest_part)\n",
    "tf.profiler.experimental.stop()"
   ]
  },
  {
   "cell_type": "code",
   "execution_count": null,
   "metadata": {},
   "outputs": [],
   "source": []
  }
 ],
 "metadata": {
  "kernelspec": {
   "display_name": "Python 3",
   "language": "python",
   "name": "python3"
  },
  "language_info": {
   "codemirror_mode": {
    "name": "ipython",
    "version": 3
   },
   "file_extension": ".py",
   "mimetype": "text/x-python",
   "name": "python",
   "nbconvert_exporter": "python",
   "pygments_lexer": "ipython3",
   "version": "3.8.0"
  }
 },
 "nbformat": 4,
 "nbformat_minor": 4
}
