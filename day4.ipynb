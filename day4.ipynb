{
 "cells": [
  {
   "cell_type": "markdown",
   "metadata": {},
   "source": [
    "# --- Day 4: Passport Processing ---"
   ]
  },
  {
   "cell_type": "raw",
   "metadata": {},
   "source": [
    "With the toboggan login problems resolved, you set off toward the airport. While travel by toboggan might be easy, it's certainly not safe: there's very minimal steering and the area is covered in trees. You'll need to see which angles will take you near the fewest trees."
   ]
  },
  {
   "cell_type": "markdown",
   "metadata": {},
   "source": [
    "## Imports"
   ]
  },
  {
   "cell_type": "code",
   "execution_count": 1,
   "metadata": {},
   "outputs": [],
   "source": [
    "import tensorflow as tf"
   ]
  },
  {
   "cell_type": "code",
   "execution_count": null,
   "metadata": {},
   "outputs": [],
   "source": [
    "byr (Birth Year)\n",
    "cid (Country ID)\n",
    "ecl (Eye Color)\n",
    "eyr (Expiration Year)\n",
    "hcl (Hair Color)\n",
    "hgt (Height)\n",
    "iyr (Issue Year)\n",
    "pid (Passport ID)"
   ]
  },
  {
   "cell_type": "markdown",
   "metadata": {},
   "source": [
    "## Part 1"
   ]
  },
  {
   "cell_type": "code",
   "execution_count": 27,
   "metadata": {},
   "outputs": [
    {
     "data": {
      "text/plain": [
       "<tf.Tensor: shape=(), dtype=int64, numpy=2>"
      ]
     },
     "execution_count": 27,
     "metadata": {},
     "output_type": "execute_result"
    }
   ],
   "source": [
    "def check_validity_of_kv_pair(kv_pair):\n",
    "    key, val = kv_pair[0], kv_pair[1]\n",
    "    \n",
    "    if key == 'byr':\n",
    "        if tf.strings.regex_full_match(val, '^[0-9][0-9][0-9][0-9]$'):\n",
    "            x = tf.strings.to_number(val)\n",
    "            return x >= 1920 and x <= 2002\n",
    "        return False\n",
    "    \n",
    "    if key == 'iyr':\n",
    "        if tf.strings.regex_full_match(val, '^[0-9][0-9][0-9][0-9]$'):\n",
    "            x = tf.strings.to_number(val)\n",
    "            return x >= 2002 and x <= 2020\n",
    "        return False\n",
    "    \n",
    "    if key == 'eyr':\n",
    "        if tf.strings.regex_full_match(val, '^[0-9][0-9][0-9][0-9]$'):\n",
    "            x = tf.strings.to_number(val)\n",
    "            return x >= 2020 and x <= 2030\n",
    "        return False\n",
    "    \n",
    "    if key == 'hgt' and tf.strings.regex_full_match(val, '^[0-9]+cm$'):\n",
    "        hgt_s_size = tf.strings.length(val)\n",
    "        x = tf.strings.to_number(tf.strings.substr(val, 0, hgt_s_size-2))\n",
    "        return x >= 150 and x <= 193\n",
    "\n",
    "    if key == 'hgt' and tf.strings.regex_full_match(val, '^[0-9]+in$'):\n",
    "        hgt_s_size = tf.strings.length(val)\n",
    "        x = tf.strings.to_number(tf.strings.substr(val, 0, hgt_s_size-2))\n",
    "        return x >= 59 and x <= 76\n",
    "\n",
    "    if key == 'hcl':\n",
    "        return tf.strings.regex_full_match(val, '^#[0-9a-f][0-9a-f][0-9a-f][0-9a-f][0-9a-f][0-9a-f]$')\n",
    "    \n",
    "    if key == 'ecl':\n",
    "        return tf.strings.regex_full_match(val, '^(amb|blu|brn|gry|grn|hzl|oth)$')\n",
    "\n",
    "    if key == 'pid':\n",
    "        return tf.strings.regex_full_match(val, '^[0-9][0-9][0-9][0-9][0-9][0-9][0-9][0-9][0-9]$')\n",
    "\n",
    "    return False\n",
    "\n",
    "def check_validity(x): \n",
    "    x = x.to_tensor()\n",
    "    x_decoded = tf.strings.unicode_decode(x[:,0], 'UTF-8').to_tensor()-97\n",
    "    indices = tf.argsort((26*x_decoded[:,0]) + x_decoded[:,1])\n",
    "    x = tf.gather(x, indices)\n",
    "    x = tf.map_fn(\n",
    "        check_validity_of_kv_pair,\n",
    "        x,\n",
    "        fn_output_signature=tf.TensorSpec(shape=(), dtype=tf.bool, name=None)\n",
    "    )\n",
    "    \n",
    "    return tf.math.count_nonzero(x) == 7\n",
    "\n",
    "@tf.function()\n",
    "def solve(fname):\n",
    "    s = tf.io.read_file(fname)\n",
    "    s = tf.strings.split(s, \"\\n\\n\")\n",
    "    s = tf.map_fn(lambda s: tf.strings.regex_replace(s, '\\n', ' '), s)\n",
    "    s = tf.strings.split(s, ' ')\n",
    "    s = tf.strings.split(s, ':')\n",
    "    \n",
    "    bools = tf.map_fn(check_validity, s, fn_output_signature=tf.TensorSpec(shape=(), dtype=tf.bool, name=None))\n",
    "    \n",
    "    return tf.math.count_nonzero(bools)\n",
    "        \n",
    "\n",
    "solve('day4_test.txt')"
   ]
  },
  {
   "cell_type": "code",
   "execution_count": 29,
   "metadata": {},
   "outputs": [
    {
     "name": "stdout",
     "output_type": "stream",
     "text": [
      "CPU times: user 3.07 s, sys: 79.7 ms, total: 3.15 s\n",
      "Wall time: 2.83 s\n"
     ]
    },
    {
     "data": {
      "text/plain": [
       "<tf.Tensor: shape=(), dtype=int64, numpy=179>"
      ]
     },
     "execution_count": 29,
     "metadata": {},
     "output_type": "execute_result"
    }
   ],
   "source": [
    "%%time\n",
    "solve('day4.txt')"
   ]
  },
  {
   "cell_type": "code",
   "execution_count": 321,
   "metadata": {},
   "outputs": [],
   "source": [
    "import datetime\n",
    "# Set up logging.\n",
    "stamp = datetime.datetime.now().strftime(\"%Y%m%d-%H%M%S\")\n",
    "logdir = 'logs/func/%s' % stamp\n",
    "\n",
    "# Bracket the function call with\n",
    "# tf.summary.trace_on() and tf.summary.trace_export().\n",
    "tf.profiler.experimental.start(logdir)\n",
    "solve('day4.txt')\n",
    "tf.profiler.experimental.stop()"
   ]
  },
  {
   "cell_type": "code",
   "execution_count": null,
   "metadata": {},
   "outputs": [],
   "source": []
  }
 ],
 "metadata": {
  "kernelspec": {
   "display_name": "Python 3",
   "language": "python",
   "name": "python3"
  },
  "language_info": {
   "codemirror_mode": {
    "name": "ipython",
    "version": 3
   },
   "file_extension": ".py",
   "mimetype": "text/x-python",
   "name": "python",
   "nbconvert_exporter": "python",
   "pygments_lexer": "ipython3",
   "version": "3.8.0"
  }
 },
 "nbformat": 4,
 "nbformat_minor": 4
}
