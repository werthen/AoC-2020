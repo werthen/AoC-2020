{
 "cells": [
  {
   "cell_type": "code",
   "execution_count": 1,
   "metadata": {},
   "outputs": [],
   "source": [
    "import tensorflow as tf\n",
    "import tensorflow.experimental.numpy as tnp"
   ]
  },
  {
   "cell_type": "code",
   "execution_count": 4,
   "metadata": {},
   "outputs": [],
   "source": [
    "@tf.function\n",
    "def extract_matrix(f):\n",
    "    lines = tf.strings.split(f, '\\n')\n",
    "    lines = tf.strings.split(lines, ' bags contain ')\n",
    "    lines = lines.to_tensor()\n",
    "    bagtypes = lines[:,0]\n",
    "    n = tf.shape(bagtypes)[0]\n",
    "    \n",
    "    init = tf.lookup.KeyValueTensorInitializer(bagtypes, tf.range(n))\n",
    "    index_map = tf.lookup.StaticHashTable(init, default_value=-1)\n",
    "    sg_idx = index_map[tf.constant('shiny gold')]\n",
    "    \n",
    "    indices = tf.TensorArray(tf.int32, size=0, dynamic_size=True)\n",
    "    updates = tf.TensorArray(tf.float32, size=0, dynamic_size=True)\n",
    "    \n",
    "    ta_i = 0\n",
    "\n",
    "    for i in tf.range(n):\n",
    "        c = lines[i][1]\n",
    "        c = tf.strings.split(c, ', ')\n",
    "        for j in tf.range(tf.shape(c)[0]):\n",
    "            e = c[j]\n",
    "            e_split = tf.strings.split(e, ' ')\n",
    "            bagtype = e_split[1] + tf.constant(' ') + e_split[2]\n",
    "            k = index_map[bagtype]\n",
    "\n",
    "            if k > -1:\n",
    "                amt = tf.strings.to_number(e_split[0])\n",
    "                indices = indices.write(ta_i, (i, k))\n",
    "                updates = updates.write(ta_i, amt)\n",
    "                ta_i += 1\n",
    "\n",
    "    return tf.scatter_nd(indices.stack(), updates.stack(), (n, n)), sg_idx\n",
    "\n",
    "@tf.function(experimental_compile=True)\n",
    "def solve1(X, sg_idx):\n",
    "    X = tf.transpose(X)\n",
    "    X_orig = X\n",
    "    res_vec = tf.zeros(tf.shape(X)[0])\n",
    "    while tf.math.count_nonzero(X) > 0:\n",
    "        res_vec += X[sg_idx]\n",
    "        X = X@X_orig\n",
    "    return tf.math.count_nonzero(res_vec)\n",
    "\n",
    "@tf.function(experimental_compile=True)\n",
    "def solve2(X, sg_idx):\n",
    "    X_orig = X\n",
    "    res_vec = 0.0\n",
    "    while tf.math.count_nonzero(X) > 0:\n",
    "        res_vec += tf.reduce_sum(X[sg_idx])\n",
    "        X = X@X_orig\n",
    "    return res_vec"
   ]
  },
  {
   "cell_type": "code",
   "execution_count": 5,
   "metadata": {},
   "outputs": [
    {
     "name": "stdout",
     "output_type": "stream",
     "text": [
      "CPU times: user 6.32 s, sys: 1.03 s, total: 7.35 s\n",
      "Wall time: 2.31 s\n"
     ]
    }
   ],
   "source": [
    "%%time\n",
    "X, sg_idx = extract_matrix(tf.io.read_file('day7.txt'))"
   ]
  },
  {
   "cell_type": "code",
   "execution_count": 6,
   "metadata": {},
   "outputs": [
    {
     "name": "stdout",
     "output_type": "stream",
     "text": [
      "2.9 ms ± 79.2 µs per loop (mean ± std. dev. of 7 runs, 1 loop each)\n"
     ]
    }
   ],
   "source": [
    "%%timeit\n",
    "solve1(X, sg_idx)"
   ]
  },
  {
   "cell_type": "code",
   "execution_count": 7,
   "metadata": {},
   "outputs": [
    {
     "name": "stdout",
     "output_type": "stream",
     "text": [
      "2.77 ms ± 92.8 µs per loop (mean ± std. dev. of 7 runs, 1 loop each)\n"
     ]
    }
   ],
   "source": [
    "%%timeit\n",
    "solve2(X, sg_idx)"
   ]
  },
  {
   "cell_type": "code",
   "execution_count": null,
   "metadata": {},
   "outputs": [],
   "source": []
  }
 ],
 "metadata": {
  "kernelspec": {
   "display_name": "Python 3",
   "language": "python",
   "name": "python3"
  },
  "language_info": {
   "codemirror_mode": {
    "name": "ipython",
    "version": 3
   },
   "file_extension": ".py",
   "mimetype": "text/x-python",
   "name": "python",
   "nbconvert_exporter": "python",
   "pygments_lexer": "ipython3",
   "version": "3.8.0"
  }
 },
 "nbformat": 4,
 "nbformat_minor": 4
}
