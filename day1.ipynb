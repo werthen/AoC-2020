{
 "cells": [
  {
   "cell_type": "markdown",
   "metadata": {},
   "source": [
    "# --- Day 1: Report Repair ---"
   ]
  },
  {
   "cell_type": "markdown",
   "metadata": {},
   "source": [
    "\n",
    "After saving Christmas five years in a row, you've decided to take a vacation at a nice resort on a tropical island. Surely, Christmas will go on without you.\n",
    "\n",
    "The tropical island has its own currency and is entirely cash-only. The gold coins used there have a little picture of a starfish; the locals just call them stars. None of the currency exchanges seem to have heard of them, but somehow, you'll need to find fifty of these coins by the time you arrive so you can pay the deposit on your room.\n",
    "\n",
    "To save your vacation, you need to get all fifty stars by December 25th.\n",
    "\n",
    "Collect stars by solving puzzles. Two puzzles will be made available on each day in the Advent calendar; the second puzzle is unlocked when you complete the first. Each puzzle grants one star. Good luck!\n",
    "\n",
    "Before you leave, the Elves in accounting just need you to fix your expense report (your puzzle input); apparently, something isn't quite adding up.\n",
    "\n",
    "Specifically, they need you to find the two entries that sum to 2020 and then multiply those two numbers together.\n",
    "\n",
    "For example, suppose your expense report contained the following:\n",
    "\n",
    "```\n",
    "1721\n",
    "979\n",
    "366\n",
    "299\n",
    "675\n",
    "1456\n",
    "```\n",
    "\n",
    "In this list, the two entries that sum to 2020 are 1721 and 299. Multiplying them together produces 1721 * 299 = 514579, so the correct answer is 514579.\n",
    "\n",
    "Of course, your expense report is much larger. Find the two entries that sum to 2020; what do you get if you multiply them together?\n"
   ]
  },
  {
   "cell_type": "markdown",
   "metadata": {},
   "source": [
    "## Imports"
   ]
  },
  {
   "cell_type": "code",
   "execution_count": 1,
   "metadata": {},
   "outputs": [],
   "source": [
    "import tensorflow as tf\n",
    "import tensorflow.experimental.numpy as tnp"
   ]
  },
  {
   "cell_type": "markdown",
   "metadata": {},
   "source": [
    "## Read Data"
   ]
  },
  {
   "cell_type": "code",
   "execution_count": 9,
   "metadata": {},
   "outputs": [
    {
     "name": "stdout",
     "output_type": "stream",
     "text": [
      "ndarray<tf.Tensor(\n",
      "[  28  314  390  534  723  833  983  997 1019 1026 1040 1047 1062 1087\n",
      " 1088 1115 1118 1123 1142 1166 1178 1179 1190 1191 1194 1202 1204 1207\n",
      " 1218 1219 1224 1225 1227 1229 1230 1239 1244 1246 1249 1255 1260 1272\n",
      " 1273 1278 1281 1287 1292 1294 1304 1310 1312 1320 1327 1343 1346 1349\n",
      " 1350 1354 1361 1369 1372 1376 1385 1390 1391 1395 1399 1400 1408 1415\n",
      " 1416 1417 1423 1424 1426 1429 1435 1436 1442 1445 1455 1459 1461 1466\n",
      " 1472 1478 1482 1488 1495 1497 1499 1503 1504 1506 1508 1510 1511 1514\n",
      " 1518 1521 1524 1525 1533 1538 1549 1554 1575 1578 1580 1592 1594 1595\n",
      " 1601 1603 1605 1611 1613 1615 1622 1637 1639 1644 1645 1648 1652 1654\n",
      " 1656 1658 1660 1666 1676 1685 1686 1690 1693 1696 1697 1705 1707 1710\n",
      " 1714 1715 1717 1718 1723 1724 1726 1733 1738 1744 1751 1756 1757 1764\n",
      " 1766 1773 1774 1780 1791 1795 1796 1797 1801 1806 1807 1809 1810 1811\n",
      " 1823 1827 1830 1838 1844 1861 1862 1869 1872 1874 1881 1887 1889 1894\n",
      " 1898 1905 1908 1916 1917 1918 1923 1931 1933 1949 1951 1963 1984 1987\n",
      " 1992 1995 1996 2002], shape=(200,), dtype=int64)>\n",
      "tf.Tensor(\n",
      "[1645. 1995. 1658. 1062. 1472. 1710. 1424. 1823. 1518. 1656. 1811. 1511.\n",
      " 1320. 1521. 1395. 1996. 1724. 1666. 1637. 1504. 1766.  534. 1738. 1791.\n",
      " 1372. 1225. 1690. 1949. 1495. 1436. 1166. 1686. 1861. 1889. 1887.  997.\n",
      " 1202. 1478.  833. 1497. 1459. 1717. 1272. 1047. 1751. 1549. 1204. 1230.\n",
      " 1260. 1611. 1506. 1648. 1354. 1415. 1615. 1327. 1622. 1592. 1807. 1601.\n",
      " 1026. 1757. 1376. 1707. 1514. 1905. 1660. 1578. 1963. 1292.  390. 1898.\n",
      " 1019. 1580. 1499. 1830. 1801. 1881. 1764. 1442. 1838. 1088. 1087. 1040.\n",
      " 1349. 1644. 1908. 1697. 1115. 1178. 1224. 1810. 1445. 1594. 1894. 1287.\n",
      " 1676. 1435. 1294. 1796. 1350. 1685. 1118. 1488. 1726. 1696. 1190. 1538.\n",
      " 1780. 1806. 1207. 1346. 1705.  983. 1249. 1455. 2002. 1466. 1723. 1227.\n",
      " 1390. 1281. 1715. 1603. 1862. 1744. 1774. 1385. 1312. 1654. 1872. 1142.\n",
      " 1273. 1508. 1639. 1827. 1461. 1795. 1533. 1304. 1417. 1984.   28. 1693.\n",
      " 1951. 1391. 1931. 1179. 1278. 1400. 1361. 1369. 1343. 1416. 1426.  314.\n",
      " 1510. 1933. 1239. 1218. 1918. 1797. 1255. 1399. 1229.  723. 1992. 1595.\n",
      " 1191. 1916. 1525. 1605. 1524. 1869. 1652. 1874. 1756. 1246. 1310. 1219.\n",
      " 1482. 1429. 1244. 1554. 1575. 1123. 1194. 1408. 1917. 1613. 1773. 1809.\n",
      " 1987. 1733. 1844. 1423. 1718. 1714. 1923. 1503.], shape=(200,), dtype=float32)\n"
     ]
    }
   ],
   "source": [
    "lines = open('day1.txt', 'r').readlines()\n",
    "\n",
    "arr = tnp.array([int(s.strip()) for s in lines])\n",
    "arr = tnp.sort(arr)"
   ]
  },
  {
   "cell_type": "markdown",
   "metadata": {},
   "source": [
    "## Solver"
   ]
  },
  {
   "cell_type": "code",
   "execution_count": 18,
   "metadata": {},
   "outputs": [],
   "source": [
    "@tf.function\n",
    "def solve(arr, n=2):\n",
    "    c = tf.stack(tf.meshgrid(*([arr]*n), indexing='ij'), axis=0)\n",
    "    c = tf.reshape(c, (n, -1))\n",
    "\n",
    "    c_sum = tf.reduce_sum([c[i] for i in range(n)], axis=0)\n",
    "\n",
    "    idx = tf.where(c_sum == 2020)[0][0]\n",
    "    \n",
    "    return tf.reduce_prod([c[i,idx] for i in range(n)])"
   ]
  },
  {
   "cell_type": "markdown",
   "metadata": {},
   "source": [
    "## Part 1"
   ]
  },
  {
   "cell_type": "code",
   "execution_count": 20,
   "metadata": {},
   "outputs": [
    {
     "name": "stdout",
     "output_type": "stream",
     "text": [
      "1.05 ms ± 60.3 µs per loop (mean ± std. dev. of 7 runs, 1000 loops each)\n"
     ]
    }
   ],
   "source": [
    "%%timeit\n",
    "solve(arr, n=2)"
   ]
  },
  {
   "cell_type": "code",
   "execution_count": 332,
   "metadata": {},
   "outputs": [
    {
     "data": {
      "text/plain": [
       "55776"
      ]
     },
     "execution_count": 332,
     "metadata": {},
     "output_type": "execute_result"
    }
   ],
   "source": [
    "solve(arr, n=2).numpy()"
   ]
  },
  {
   "cell_type": "markdown",
   "metadata": {},
   "source": [
    "## Part 2"
   ]
  },
  {
   "cell_type": "code",
   "execution_count": 333,
   "metadata": {},
   "outputs": [
    {
     "name": "stdout",
     "output_type": "stream",
     "text": [
      "4.4 ms ± 148 µs per loop (mean ± std. dev. of 7 runs, 100 loops each)\n"
     ]
    }
   ],
   "source": [
    "%%timeit\n",
    "solve(arr, n=3)"
   ]
  },
  {
   "cell_type": "code",
   "execution_count": 334,
   "metadata": {},
   "outputs": [
    {
     "data": {
      "text/plain": [
       "223162626"
      ]
     },
     "execution_count": 334,
     "metadata": {},
     "output_type": "execute_result"
    }
   ],
   "source": [
    "solve(arr, n=3).numpy()"
   ]
  },
  {
   "cell_type": "code",
   "execution_count": 8,
   "metadata": {},
   "outputs": [],
   "source": [
    "import numpy as np\n",
    "\n",
    "lines = open('day1.txt', 'r').readlines()\n",
    "\n",
    "arr = np.array([int(s.strip()) for s in lines])\n",
    "\n",
    "def solve(arr, n=2):\n",
    "    c = np.stack(np.meshgrid(*([arr]*n), indexing='ij'), axis=0)\n",
    "    c = np.reshape(c, (n, -1))\n",
    "\n",
    "    c_sum = np.sum([c[i] for i in range(n)], axis=0)\n",
    "\n",
    "    idx = np.where(c_sum == 2020)[0][0]\n",
    "    \n",
    "    return np.prod([c[i,idx] for i in range(n)])"
   ]
  },
  {
   "cell_type": "code",
   "execution_count": 11,
   "metadata": {},
   "outputs": [
    {
     "name": "stdout",
     "output_type": "stream",
     "text": [
      "191 µs ± 1.4 µs per loop (mean ± std. dev. of 7 runs, 1000 loops each)\n"
     ]
    }
   ],
   "source": [
    "%%timeit\n",
    "solve(arr, n=2)"
   ]
  },
  {
   "cell_type": "code",
   "execution_count": 10,
   "metadata": {},
   "outputs": [
    {
     "ename": "AttributeError",
     "evalue": "'numpy.int64' object has no attribute 'numpy'",
     "output_type": "error",
     "traceback": [
      "\u001b[0;31m---------------------------------------------------------------------------\u001b[0m",
      "\u001b[0;31mAttributeError\u001b[0m                            Traceback (most recent call last)",
      "\u001b[0;32m<ipython-input-10-6b95cbdb0990>\u001b[0m in \u001b[0;36m<module>\u001b[0;34m\u001b[0m\n\u001b[0;32m----> 1\u001b[0;31m \u001b[0msolve\u001b[0m\u001b[0;34m(\u001b[0m\u001b[0marr\u001b[0m\u001b[0;34m,\u001b[0m \u001b[0mn\u001b[0m\u001b[0;34m=\u001b[0m\u001b[0;36m2\u001b[0m\u001b[0;34m)\u001b[0m\u001b[0;34m.\u001b[0m\u001b[0mnumpy\u001b[0m\u001b[0;34m(\u001b[0m\u001b[0;34m)\u001b[0m\u001b[0;34m\u001b[0m\u001b[0;34m\u001b[0m\u001b[0m\n\u001b[0m",
      "\u001b[0;31mAttributeError\u001b[0m: 'numpy.int64' object has no attribute 'numpy'"
     ]
    }
   ],
   "source": [
    "solve(arr, n=2)"
   ]
  },
  {
   "cell_type": "markdown",
   "metadata": {},
   "source": [
    "## Part 2"
   ]
  },
  {
   "cell_type": "code",
   "execution_count": 12,
   "metadata": {},
   "outputs": [
    {
     "name": "stdout",
     "output_type": "stream",
     "text": [
      "229 ms ± 26 ms per loop (mean ± std. dev. of 7 runs, 1 loop each)\n"
     ]
    }
   ],
   "source": [
    "%%timeit\n",
    "solve(arr, n=3)"
   ]
  },
  {
   "cell_type": "code",
   "execution_count": 334,
   "metadata": {},
   "outputs": [
    {
     "data": {
      "text/plain": [
       "223162626"
      ]
     },
     "execution_count": 334,
     "metadata": {},
     "output_type": "execute_result"
    }
   ],
   "source": [
    "solve(arr, n=3).numpy()"
   ]
  }
 ],
 "metadata": {
  "kernelspec": {
   "display_name": "Python 3",
   "language": "python",
   "name": "python3"
  },
  "language_info": {
   "codemirror_mode": {
    "name": "ipython",
    "version": 3
   },
   "file_extension": ".py",
   "mimetype": "text/x-python",
   "name": "python",
   "nbconvert_exporter": "python",
   "pygments_lexer": "ipython3",
   "version": "3.8.0"
  }
 },
 "nbformat": 4,
 "nbformat_minor": 4
}
