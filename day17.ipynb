{
 "cells": [
  {
   "cell_type": "code",
   "execution_count": 2,
   "metadata": {},
   "outputs": [],
   "source": [
    "import tensorflow as tf\n",
    "# Fixes bad convolution\n",
    "gpus = tf.config.experimental.list_physical_devices('GPU')\n",
    "for gpu in gpus:\n",
    "    tf.config.experimental.set_memory_growth(gpu, True)"
   ]
  },
  {
   "cell_type": "code",
   "execution_count": 176,
   "metadata": {},
   "outputs": [
    {
     "name": "stdout",
     "output_type": "stream",
     "text": [
      "1.27 ms ± 208 µs per loop (mean ± std. dev. of 7 runs, 1 loop each)\n"
     ]
    },
    {
     "data": {
      "text/plain": [
       "<tf.Tensor: shape=(), dtype=float32, numpy=112.0>"
      ]
     },
     "execution_count": 176,
     "metadata": {},
     "output_type": "execute_result"
    }
   ],
   "source": [
    "@tf.function\n",
    "def solve(s, n_cycles=6, n_dims=3):\n",
    "    s = tf.strings.split(s, '\\n')\n",
    "    s = tf.strings.bytes_split(s, 'UTF-8')\n",
    "    s = s.to_tensor()\n",
    "    s = tf.where(s == '.', 0.0, 1.0)\n",
    "    s = s[None,...]\n",
    "    s = tf.pad(s, n_dims*[2*[n_cycles]])\n",
    "    s = s[None,...,None]\n",
    "\n",
    "    kernel = tf.ones(n_dims*[3])\n",
    "    kernel = tf.tensor_scatter_nd_update(kernel, [n_dims*[1]], [0])[...,None,None]\n",
    "    \n",
    "    @tf.function(experimental_compile=True)\n",
    "    def _solve(s):\n",
    "        for _ in range(n_cycles):\n",
    "            active_cells = s\n",
    "            convolution = tf.nn.conv3d(s, kernel, strides=[1, 1, 1, 1, 1], padding='SAME')\n",
    "\n",
    "            cells_to_deactivate = active_cells * tf.cast(~((convolution == 2) | (convolution == 3)), tf.float32)\n",
    "            cells_to_activate = (1-active_cells) * tf.cast(convolution == 3, tf.float32)\n",
    "\n",
    "            s = active_cells - cells_to_deactivate + cells_to_activate\n",
    "    \n",
    "        return tf.reduce_sum(s)\n",
    "\n",
    "    return _solve(s)\n",
    "    \n",
    "%timeit solve(tf.io.read_file('day17.txt'), n_cycles=6)\n",
    "solve(s, n_cycles=6)"
   ]
  },
  {
   "cell_type": "code",
   "execution_count": 192,
   "metadata": {},
   "outputs": [
    {
     "name": "stdout",
     "output_type": "stream",
     "text": [
      "15.3 ms ± 612 µs per loop (mean ± std. dev. of 7 runs, 1 loop each)\n"
     ]
    },
    {
     "data": {
      "text/plain": [
       "<tf.Tensor: shape=(), dtype=float32, numpy=1504.0>"
      ]
     },
     "execution_count": 192,
     "metadata": {},
     "output_type": "execute_result"
    }
   ],
   "source": [
    "s = tf.io.read_file('day17.txt')\n",
    "\n",
    "@tf.function\n",
    "def solve(s, n_cycles=6):\n",
    "    s = tf.strings.split(s, '\\n')\n",
    "    s = tf.strings.bytes_split(s, 'UTF-8')\n",
    "    s = s.to_tensor()\n",
    "    s = tf.where(s == '.', 0.0, 1.0)\n",
    "    s = s[None,None,...]\n",
    "    s = tf.pad(s, 4*[2*[n_cycles]])\n",
    "    s = s[None,...,None]\n",
    "    \n",
    "    n = 2*n_cycles + 1\n",
    "\n",
    "    kernel = tf.ones(4*[3])\n",
    "    kernel = tf.tensor_scatter_nd_update(kernel, [4*[1]], [0])[...,None,None]\n",
    "    \n",
    "    @tf.function(experimental_compile=True)\n",
    "    def _solve(s):\n",
    "        for i in range(n_cycles):\n",
    "            convs = []\n",
    "            # Thanks to https://github.com/funkey/conv4d/blob/master/conv4d.py#L27\n",
    "            for j in range(3):\n",
    "                convolution = tf.stack([\n",
    "                    tf.nn.conv3d(s[:,i], kernel[j], strides=[1, 1, 1, 1, 1], padding='SAME')\n",
    "                    for i in range(n)], axis=1)\n",
    "                convs.append(convolution)\n",
    "            \n",
    "            conv0 = tf.concat((tf.zeros_like(convs[0][:,:1]), convs[0][:,:-1]), 1)\n",
    "            conv1 = convs[1]\n",
    "            conv2 = tf.concat((convs[2][:,1:], tf.zeros_like(convs[0][:,:1])), 1)\n",
    "            \n",
    "            convolution = conv0 + conv1 + conv2\n",
    "\n",
    "            cells_to_deactivate = s * tf.cast((convolution != 2) & (convolution != 3), tf.float32)\n",
    "            cells_to_activate = (1-s) * tf.cast(convolution == 3, tf.float32)\n",
    "\n",
    "            s = s - cells_to_deactivate + cells_to_activate\n",
    "    \n",
    "        return tf.reduce_sum(s)\n",
    "\n",
    "    return _solve(s)\n",
    "    \n",
    "%timeit solve(s, n_cycles=6)\n",
    "solve(s, n_cycles=6)"
   ]
  }
 ],
 "metadata": {
  "kernelspec": {
   "display_name": "Python 3",
   "language": "python",
   "name": "python3"
  },
  "language_info": {
   "codemirror_mode": {
    "name": "ipython",
    "version": 3
   },
   "file_extension": ".py",
   "mimetype": "text/x-python",
   "name": "python",
   "nbconvert_exporter": "python",
   "pygments_lexer": "ipython3",
   "version": "3.8.0"
  }
 },
 "nbformat": 4,
 "nbformat_minor": 4
}
