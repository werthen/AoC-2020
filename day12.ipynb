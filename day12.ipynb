{
 "cells": [
  {
   "cell_type": "code",
   "execution_count": 1,
   "metadata": {},
   "outputs": [],
   "source": [
    "import tensorflow as tf\n",
    "try:\n",
    "    # Disable all GPUS\n",
    "    tf.config.set_visible_devices([], 'GPU')\n",
    "    visible_devices = tf.config.get_visible_devices()\n",
    "    for device in visible_devices:\n",
    "        assert device.device_type != 'GPU'\n",
    "except:\n",
    "    # Invalid device or cannot modify virtual devices once initialized.\n",
    "    pass\n",
    "\n",
    "# Fixes bad convolution\n",
    "#gpus = tf.config.experimental.list_physical_devices('GPU')\n",
    "#for gpu in gpus:\n",
    "#    tf.config.experimental.set_memory_growth(gpu, True)"
   ]
  },
  {
   "cell_type": "code",
   "execution_count": 2,
   "metadata": {},
   "outputs": [
    {
     "name": "stdout",
     "output_type": "stream",
     "text": [
      "83.2 ms ± 3.89 ms per loop (mean ± std. dev. of 7 runs, 1 loop each)\n"
     ]
    },
    {
     "data": {
      "text/plain": [
       "<tf.Tensor: shape=(), dtype=float32, numpy=1186.0>"
      ]
     },
     "execution_count": 2,
     "metadata": {},
     "output_type": "execute_result"
    }
   ],
   "source": [
    "def deg2rad(deg):\n",
    "    pi_on_180 = 0.017453292519943295\n",
    "    return deg * pi_on_180\n",
    "\n",
    "def rotation_matrix(theta):\n",
    "    rotation_matrix = tf.stack([tf.cos(theta),\n",
    "                              -tf.sin(theta),  \n",
    "                               tf.sin(theta),\n",
    "                               tf.cos(theta)])\n",
    "    return tf.reshape(rotation_matrix, (2,2))\n",
    "\n",
    "s = tf.io.read_file('day12.txt')\n",
    "s = tf.strings.split(s, '\\n')\n",
    "directions = tf.strings.substr(s, 0, 1)\n",
    "values = tf.strings.substr(s, 1, -1)\n",
    "values = tf.strings.to_number(values)\n",
    "\n",
    "@tf.function(experimental_compile=False)\n",
    "def solve(directions, values):\n",
    "    ship_dir = tf.constant([[1.0], [0.0]])\n",
    "    ship_coords = tf.constant([[0.0], [0.0]])\n",
    "    for i in tf.range(directions.shape[0]):\n",
    "        direction = directions[i]\n",
    "        val = values[i]\n",
    "\n",
    "        if direction == 'N':\n",
    "            ship_coords += val*tf.constant([0.0, 1.0])[:,None]\n",
    "        elif direction == 'E':\n",
    "            ship_coords += val*tf.constant([1.0, 0.0])[:,None]\n",
    "        elif direction == 'S':\n",
    "            ship_coords += val*tf.constant([0.0, -1.0])[:,None]\n",
    "        elif direction == 'W':\n",
    "            ship_coords += val*tf.constant([-1.0, 0.0])[:,None]\n",
    "        elif direction == 'F':\n",
    "            ship_coords += val*ship_dir\n",
    "        elif direction == 'L':\n",
    "            deg = deg2rad(val)\n",
    "            ship_dir = tf.round(rotation_matrix(deg)@ship_dir)\n",
    "        elif direction == 'R':\n",
    "            deg = deg2rad(val)\n",
    "            ship_dir = tf.round(rotation_matrix(-deg)@ship_dir)\n",
    "    \n",
    "    return tf.reduce_sum(tf.abs(ship_coords))\n",
    "\n",
    "%timeit solve(directions, values)\n",
    "solve(directions, values)"
   ]
  },
  {
   "cell_type": "code",
   "execution_count": 3,
   "metadata": {},
   "outputs": [
    {
     "name": "stdout",
     "output_type": "stream",
     "text": [
      "78.6 ms ± 5.68 ms per loop (mean ± std. dev. of 7 runs, 1 loop each)\n"
     ]
    },
    {
     "data": {
      "text/plain": [
       "<tf.Tensor: shape=(), dtype=float32, numpy=47806.0>"
      ]
     },
     "execution_count": 3,
     "metadata": {},
     "output_type": "execute_result"
    }
   ],
   "source": [
    "@tf.function(experimental_compile=False)\n",
    "def solve(directions, values):\n",
    "    wp_coords = tf.constant([[10.0], [1.0]])\n",
    "    ship_coords = tf.constant([[0.0], [0.0]])\n",
    "    for i in tf.range(directions.shape[0]):\n",
    "        direction = directions[i]\n",
    "        val = values[i]\n",
    "\n",
    "        if direction == 'N':\n",
    "            wp_coords += val*tf.constant([0.0, 1.0])[:,None]\n",
    "        elif direction == 'E':\n",
    "            wp_coords += val*tf.constant([1.0, 0.0])[:,None]\n",
    "        elif direction == 'S':\n",
    "            wp_coords += val*tf.constant([0.0, -1.0])[:,None]\n",
    "        elif direction == 'W':\n",
    "            wp_coords += val*tf.constant([-1.0, 0.0])[:,None]\n",
    "        elif direction == 'F':\n",
    "            ship_coords += val*wp_coords\n",
    "        elif direction == 'L':\n",
    "            deg = deg2rad(val)\n",
    "            wp_coords = tf.round(rotation_matrix(deg)@wp_coords)\n",
    "        elif direction == 'R':\n",
    "            deg = deg2rad(val)\n",
    "            wp_coords = tf.round(rotation_matrix(-deg)@wp_coords)\n",
    "    \n",
    "    return tf.reduce_sum(tf.abs(ship_coords))\n",
    "\n",
    "%timeit solve(directions, values)\n",
    "solve(directions, values)"
   ]
  }
 ],
 "metadata": {
  "kernelspec": {
   "display_name": "Python 3",
   "language": "python",
   "name": "python3"
  },
  "language_info": {
   "codemirror_mode": {
    "name": "ipython",
    "version": 3
   },
   "file_extension": ".py",
   "mimetype": "text/x-python",
   "name": "python",
   "nbconvert_exporter": "python",
   "pygments_lexer": "ipython3",
   "version": "3.8.0"
  }
 },
 "nbformat": 4,
 "nbformat_minor": 4
}
