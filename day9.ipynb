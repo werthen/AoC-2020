{
 "cells": [
  {
   "cell_type": "code",
   "execution_count": 1,
   "metadata": {},
   "outputs": [],
   "source": [
    "import tensorflow as tf"
   ]
  },
  {
   "cell_type": "code",
   "execution_count": 9,
   "metadata": {},
   "outputs": [],
   "source": [
    "# Fixes bad convolution\n",
    "gpus = tf.config.experimental.list_physical_devices('GPU')\n",
    "for gpu in gpus:\n",
    "    tf.config.experimental.set_memory_growth(gpu, True)"
   ]
  },
  {
   "cell_type": "code",
   "execution_count": 71,
   "metadata": {},
   "outputs": [
    {
     "name": "stdout",
     "output_type": "stream",
     "text": [
      "16.1 ms ± 1.39 ms per loop (mean ± std. dev. of 7 runs, 1 loop each)\n"
     ]
    },
    {
     "data": {
      "text/plain": [
       "<tf.Tensor: shape=(), dtype=float64, numpy=257342611.0>"
      ]
     },
     "execution_count": 71,
     "metadata": {},
     "output_type": "execute_result"
    }
   ],
   "source": [
    "s = tf.io.read_file('day9.txt')\n",
    "s = tf.strings.split(s, '\\n')\n",
    "s = tf.strings.to_number(s, tf.float64)\n",
    "\n",
    "from itertools import combinations\n",
    "\n",
    "def generate_onehots(n, k=2):\n",
    "    return tf.stack(\n",
    "        [tf.scatter_nd(tf.constant(comb)[:,None], tf.ones(k, tf.float64), (n,)) for comb in combinations(range(n), k)],\n",
    "        0\n",
    "    )\n",
    "\n",
    "@tf.function(experimental_compile=True, experimental_relax_shapes=True)\n",
    "def solve_xla(s, n, k):\n",
    "    onehots = generate_onehots(n, k)\n",
    "\n",
    "    res = tf.squeeze(tf.map_fn(\n",
    "        lambda i: onehots @ tf.slice(s, [i], [n])[:,None],\n",
    "        tf.range(0, s.shape[0]-n),\n",
    "        fn_output_signature=tf.TensorSpec([onehots.shape[0], 1], tf.float64)\n",
    "    ))\n",
    "\n",
    "    res = ~tf.reduce_any(res == s[n:, None], 1)\n",
    "    return res\n",
    "\n",
    "@tf.function\n",
    "def solve1(s, n, k):\n",
    "    res = solve_xla(s, n, k)\n",
    "    return s[n+tf.where(res)[0][0]]\n",
    "\n",
    "n = 25\n",
    "k = 2\n",
    "\n",
    "%timeit solve1(s, n, k)\n",
    "solve1(s, n, k)"
   ]
  },
  {
   "cell_type": "code",
   "execution_count": 72,
   "metadata": {},
   "outputs": [
    {
     "name": "stdout",
     "output_type": "stream",
     "text": [
      "418 ms ± 4.76 ms per loop (mean ± std. dev. of 7 runs, 1 loop each)\n"
     ]
    }
   ],
   "source": [
    "def do_conv(s_conv, k, x):\n",
    "    res = tf.nn.conv1d(s_conv, tf.ones((k, 1, 1), tf.float64), stride=1, padding='VALID')\n",
    "    if tf.reduce_any(res == x):\n",
    "        idx = tf.where(res == x)[0][1]\n",
    "        rnge = s[idx:idx+k]\n",
    "\n",
    "        return tf.reduce_min(rnge) + tf.reduce_max(rnge)\n",
    "    \n",
    "    return tf.constant(0, tf.float64)\n",
    "\n",
    "@tf.function\n",
    "def solve2(s, x):   \n",
    "    return tf.foldr(\n",
    "        lambda acc, k: acc + do_conv(s[None,:,None], k, x),\n",
    "        tf.range(2, s.shape[0], dtype=tf.int64),\n",
    "        tf.constant(0, tf.float64)\n",
    "    )\n",
    "\n",
    "\n",
    "%timeit solve2(s, solve1(s, n, k))"
   ]
  },
  {
   "cell_type": "code",
   "execution_count": 202,
   "metadata": {},
   "outputs": [
    {
     "data": {
      "text/plain": [
       "<tf.Tensor: shape=(20,), dtype=float64, numpy=\n",
       "array([ 35.,  20.,  15.,  25.,  47.,  40.,  62.,  55.,  65.,  95., 102.,\n",
       "       117., 150., 182., 127., 219., 299., 277., 309., 576.])>"
      ]
     },
     "execution_count": 202,
     "metadata": {},
     "output_type": "execute_result"
    }
   ],
   "source": [
    "s"
   ]
  },
  {
   "cell_type": "code",
   "execution_count": 11,
   "metadata": {},
   "outputs": [],
   "source": [
    "import datetime\n",
    "# Set up logging.\n",
    "stamp = datetime.datetime.now().strftime(\"%Y%m%d-%H%M%S\")\n",
    "logdir = 'logs/day8_graph/%s' % stamp\n",
    "\n",
    "# Bracket the function call with\n",
    "# tf.summary.trace_on() and tf.summary.trace_export().\n",
    "tf.profiler.experimental.start(logdir)\n",
    "solve2()\n",
    "tf.profiler.experimental.stop()"
   ]
  },
  {
   "cell_type": "code",
   "execution_count": null,
   "metadata": {},
   "outputs": [],
   "source": []
  }
 ],
 "metadata": {
  "kernelspec": {
   "display_name": "Python 3",
   "language": "python",
   "name": "python3"
  },
  "language_info": {
   "codemirror_mode": {
    "name": "ipython",
    "version": 3
   },
   "file_extension": ".py",
   "mimetype": "text/x-python",
   "name": "python",
   "nbconvert_exporter": "python",
   "pygments_lexer": "ipython3",
   "version": "3.8.0"
  }
 },
 "nbformat": 4,
 "nbformat_minor": 4
}
